{
 "cells": [
  {
   "cell_type": "markdown",
   "id": "68a8b98c-0076-45e9-b9cc-1683185db98e",
   "metadata": {},
   "source": [
    "# How to use `unfold`\n",
    "\n",
    "Author: [Romain Sacchi](romain.sacchi@psi.ch)\n",
    "\n",
    "Github repo: https://github.com/romainsacchi/"
   ]
  },
  {
   "cell_type": "markdown",
   "id": "254cfacd-447f-4c68-853e-cc9e2fa1a8ff",
   "metadata": {},
   "source": [
    "## fold\n",
    "Several `brightway` databases are \"folded\" in a data package."
   ]
  },
  {
   "cell_type": "code",
   "execution_count": 1,
   "id": "ce4d67df-16ba-4519-9a3d-ae3df1aa261d",
   "metadata": {},
   "outputs": [],
   "source": [
    "from unfold import Fold\n",
    "import bw2data\n",
    "bw2data.projects.set_current(\"carculator\") # <-- name of the brightway project containing both the source database and the databases to fold"
   ]
  },
  {
   "cell_type": "code",
   "execution_count": 2,
   "id": "31c31868-719d-43d9-a450-18e1fdad7699",
   "metadata": {},
   "outputs": [],
   "source": [
    "f = Fold()"
   ]
  },
  {
   "cell_type": "code",
   "execution_count": 3,
   "id": "25ea53d1-6215-4920-899e-aa3e97774b26",
   "metadata": {},
   "outputs": [
    {
     "name": "stdin",
     "output_type": "stream",
     "text": [
      "Give a name for this datapackage:  srgd\n",
      "Give a short description for this datapackage:  sdfg\n"
     ]
    },
    {
     "name": "stdout",
     "output_type": "stream",
     "text": [
      "The following databases are available in your project:\n",
      "+-----+---------------------------------------+\n",
      "| No. |                Database               |\n",
      "+-----+---------------------------------------+\n",
      "|  1  |               biosphere3              |\n",
      "|  2  |          ecoinvent 3.8 cutoff         |\n",
      "|  3  |     ecoinvent_image_SSP2-Base_2030    |\n",
      "|  4  |     ecoinvent_image_SSP2-Base_2050    |\n",
      "|  5  |                 test1                 |\n",
      "|  6  |                 test2                 |\n",
      "|  7  |     ecoinvent_remind_SSP2-NPi_2005    |\n",
      "|  8  |     ecoinvent_remind_SSP2-NPi_2010    |\n",
      "|  9  |     ecoinvent_remind_SSP2-NPi_2020    |\n",
      "|  10 |     ecoinvent_remind_SSP2-NPi_2030    |\n",
      "|  11 |     ecoinvent_remind_SSP2-NPi_2040    |\n",
      "|  12 |     ecoinvent_remind_SSP2-NPi_2050    |\n",
      "|  13 | ecoinvent_remind_SSP2-PkBudg1150_2030 |\n",
      "|  14 | ecoinvent_remind_SSP2-PkBudg1150_2040 |\n",
      "|  15 | ecoinvent_remind_SSP2-PkBudg1150_2050 |\n",
      "|  16 |  ecoinvent_remind_SSP2-PkBudg500_2030 |\n",
      "|  17 |  ecoinvent_remind_SSP2-PkBudg500_2040 |\n",
      "|  18 |  ecoinvent_remind_SSP2-PkBudg500_2050 |\n",
      "|  19 |          ecoinvent 3.7 cutoff         |\n",
      "|  20 |               test_super              |\n",
      "|  21 |              test_premise             |\n",
      "|  22 |          ecoinvent 3.6 cutoff         |\n",
      "+-----+---------------------------------------+\n",
      "\n"
     ]
    },
    {
     "name": "stdin",
     "output_type": "stream",
     "text": [
      "Indicate the no. of the reference database:  22\n",
      "Indicate the system model of ecoinvent 3.6 cutoff:  cutoff\n",
      "Indicate the version of ecoinvent 3.6 cutoff:  3.6\n",
      "Indicate the no. of the databases you would like to fold, separated by a comma:  5, 6\n",
      "Give a short description for test1:  sdf\n",
      "Give a short description for test2:  sdf\n"
     ]
    },
    {
     "name": "stdout",
     "output_type": "stream",
     "text": [
      "Extracting source database...\n",
      "Done!\n",
      "Extracting databases to fold...\n",
      "Done!\n",
      "\n",
      "The database biosphere3 is an external dependency. It will be extracted automatically.\n",
      "Building scenario factor file...\n",
      "Data package saved at srgd.zip\n"
     ]
    }
   ],
   "source": [
    "f.fold()"
   ]
  },
  {
   "cell_type": "raw",
   "id": "0193dcbf-a7f8-459a-ad2e-ecc46333b033",
   "metadata": {},
   "source": []
  },
  {
   "cell_type": "code",
   "execution_count": 3,
   "id": "d9beebda-bf49-49ee-9c1d-423006731b23",
   "metadata": {},
   "outputs": [
    {
     "name": "stdout",
     "output_type": "stream",
     "text": [
      "Getting activity data\n"
     ]
    },
    {
     "name": "stderr",
     "output_type": "stream",
     "text": [
      "100%|█████████████████████████████████| 19569/19569 [00:00<00:00, 291383.41it/s]\n"
     ]
    },
    {
     "name": "stdout",
     "output_type": "stream",
     "text": [
      "Adding exchange data to activities\n"
     ]
    },
    {
     "name": "stderr",
     "output_type": "stream",
     "text": [
      "100%|████████████████████████████████| 630210/630210 [00:20<00:00, 30247.22it/s]\n"
     ]
    },
    {
     "name": "stdout",
     "output_type": "stream",
     "text": [
      "Filling out exchange data\n"
     ]
    },
    {
     "name": "stderr",
     "output_type": "stream",
     "text": [
      "100%|██████████████████████████████████| 19569/19569 [00:01<00:00, 15160.98it/s]\n"
     ]
    },
    {
     "name": "stdout",
     "output_type": "stream",
     "text": [
      "Getting activity data\n"
     ]
    },
    {
     "name": "stderr",
     "output_type": "stream",
     "text": [
      "100%|█████████████████████████████████| 21095/21095 [00:00<00:00, 282518.44it/s]\n"
     ]
    },
    {
     "name": "stdout",
     "output_type": "stream",
     "text": [
      "Adding exchange data to activities\n"
     ]
    },
    {
     "name": "stderr",
     "output_type": "stream",
     "text": [
      "100%|████████████████████████████████| 661013/661013 [00:14<00:00, 46302.19it/s]\n"
     ]
    },
    {
     "name": "stdout",
     "output_type": "stream",
     "text": [
      "Filling out exchange data\n"
     ]
    },
    {
     "name": "stderr",
     "output_type": "stream",
     "text": [
      "100%|██████████████████████████████████| 21095/21095 [00:01<00:00, 14925.96it/s]\n"
     ]
    },
    {
     "name": "stdout",
     "output_type": "stream",
     "text": [
      "Getting activity data\n"
     ]
    },
    {
     "name": "stderr",
     "output_type": "stream",
     "text": [
      "100%|█████████████████████████████████| 21095/21095 [00:00<00:00, 235335.47it/s]\n"
     ]
    },
    {
     "name": "stdout",
     "output_type": "stream",
     "text": [
      "Adding exchange data to activities\n"
     ]
    },
    {
     "name": "stderr",
     "output_type": "stream",
     "text": [
      "100%|████████████████████████████████| 661013/661013 [00:24<00:00, 26803.17it/s]\n"
     ]
    },
    {
     "name": "stdout",
     "output_type": "stream",
     "text": [
      "Filling out exchange data\n"
     ]
    },
    {
     "name": "stderr",
     "output_type": "stream",
     "text": [
      "100%|██████████████████████████████████| 21095/21095 [00:01<00:00, 14334.16it/s]\n"
     ]
    },
    {
     "name": "stdout",
     "output_type": "stream",
     "text": [
      "\n",
      "The database biosphere3 is an external dependency. It will be extracted automatically.\n",
      "Getting activity data\n"
     ]
    },
    {
     "name": "stderr",
     "output_type": "stream",
     "text": [
      "100%|███████████████████████████████████| 4451/4451 [00:00<00:00, 282283.92it/s]\n"
     ]
    },
    {
     "name": "stdout",
     "output_type": "stream",
     "text": [
      "Adding exchange data to activities\n"
     ]
    },
    {
     "name": "stderr",
     "output_type": "stream",
     "text": [
      "0it [00:00, ?it/s]\n"
     ]
    },
    {
     "name": "stdout",
     "output_type": "stream",
     "text": [
      "Filling out exchange data\n"
     ]
    },
    {
     "name": "stderr",
     "output_type": "stream",
     "text": [
      "100%|██████████████████████████████████| 4451/4451 [00:00<00:00, 3405481.05it/s]\n"
     ]
    },
    {
     "name": "stdout",
     "output_type": "stream",
     "text": [
      "Building scenario factor file...\n",
      "Data package saved at a package name.zip\n"
     ]
    }
   ],
   "source": [
    "# alternatively, you can answer these questions directly by passing the following arguments\n",
    "f.fold(\n",
    "    package_name=\"a package name\",\n",
    "    package_description=\"some description\",\n",
    "    source=\"cutoff38\",\n",
    "    system_model=\"cut off\",\n",
    "    version=\"3.6\",\n",
    "    databases_to_fold=[\"ecoinvent_image_SSP2-Base_2025\", \"ecoinvent_image_SSP2-Base_2050\"],\n",
    "    descriptions=[\"some db\", \"some other db\"],\n",
    ")"
   ]
  },
  {
   "cell_type": "code",
   "execution_count": null,
   "id": "aba9b67d-0b45-4467-9cd1-a37dc15c56ec",
   "metadata": {},
   "outputs": [],
   "source": []
  },
  {
   "cell_type": "markdown",
   "id": "7e1aa729-ed61-4432-81be-ba269ce3e30e",
   "metadata": {},
   "source": [
    "## unfold\n",
    "Here, we read a data package, and we unfold and write the folded databases back into a `brightway` project.\n",
    "It will write one database per scenario to your `brightway` project."
   ]
  },
  {
   "cell_type": "code",
   "execution_count": 6,
   "id": "f32b2de8-bc92-45d5-8d36-8a52739410af",
   "metadata": {},
   "outputs": [],
   "source": [
    "from unfold import Unfold\n",
    "import bw2data\n",
    "bw2data.projects.set_current(\"carculator\")"
   ]
  },
  {
   "cell_type": "code",
   "execution_count": 7,
   "id": "8280c74c-e9d6-4cd1-9e9d-8511704901c8",
   "metadata": {},
   "outputs": [
    {
     "name": "stdout",
     "output_type": "stream",
     "text": [
      "The data package contains the following scenarios:\n",
      "+-----+----------+-------------+\n",
      "| No. | Scenario | Description |\n",
      "+-----+----------+-------------+\n",
      "|  0  |  test1   |     sdf     |\n",
      "|  1  |  test2   |     sdf     |\n",
      "+-----+----------+-------------+\n",
      "\n",
      "To unfold all scenarios, `unfold()`.\n",
      "To unfold a specific scenario, `unfold(scenarios=[1,])`.\n"
     ]
    }
   ],
   "source": [
    "u = Unfold(\"srgd.zip\")"
   ]
  },
  {
   "cell_type": "code",
   "execution_count": 8,
   "id": "71675d15-0616-46d4-a98e-3d2087c332ae",
   "metadata": {},
   "outputs": [
    {
     "name": "stdout",
     "output_type": "stream",
     "text": [
      "The following databases are necessary to unfold the scenarios:\n",
      "+-----+----------------------+--------------+---------+\n",
      "| No. |      Dependency      | System model | Version |\n",
      "+-----+----------------------+--------------+---------+\n",
      "|  1  | ecoinvent 3.6 cutoff |    cutoff    |   3.6   |\n",
      "|  2  |      biosphere3      |              |         |\n",
      "+-----+----------------------+--------------+---------+\n",
      "\n",
      "The following databases are available in your project:\n",
      "+-----+---------------------------------------+\n",
      "| No. |                Database               |\n",
      "+-----+---------------------------------------+\n",
      "|  1  |               biosphere3              |\n",
      "|  2  |          ecoinvent 3.8 cutoff         |\n",
      "|  3  |     ecoinvent_image_SSP2-Base_2030    |\n",
      "|  4  |     ecoinvent_image_SSP2-Base_2050    |\n",
      "|  5  |                 test1                 |\n",
      "|  6  |                 test2                 |\n",
      "|  7  |     ecoinvent_remind_SSP2-NPi_2005    |\n",
      "|  8  |     ecoinvent_remind_SSP2-NPi_2010    |\n",
      "|  9  |     ecoinvent_remind_SSP2-NPi_2020    |\n",
      "|  10 |     ecoinvent_remind_SSP2-NPi_2030    |\n",
      "|  11 |     ecoinvent_remind_SSP2-NPi_2040    |\n",
      "|  12 |     ecoinvent_remind_SSP2-NPi_2050    |\n",
      "|  13 | ecoinvent_remind_SSP2-PkBudg1150_2030 |\n",
      "|  14 | ecoinvent_remind_SSP2-PkBudg1150_2040 |\n",
      "|  15 | ecoinvent_remind_SSP2-PkBudg1150_2050 |\n",
      "|  16 |  ecoinvent_remind_SSP2-PkBudg500_2030 |\n",
      "|  17 |  ecoinvent_remind_SSP2-PkBudg500_2040 |\n",
      "|  18 |  ecoinvent_remind_SSP2-PkBudg500_2050 |\n",
      "|  19 |          ecoinvent 3.7 cutoff         |\n",
      "|  20 |               test_super              |\n",
      "|  21 |              test_premise             |\n",
      "|  22 |          ecoinvent 3.6 cutoff         |\n",
      "+-----+---------------------------------------+\n",
      "\n"
     ]
    },
    {
     "name": "stdin",
     "output_type": "stream",
     "text": [
      "Indicate the database number for dependency 1:  22\n",
      "Indicate the database number for dependency 2:  1\n"
     ]
    },
    {
     "name": "stdout",
     "output_type": "stream",
     "text": [
      "Getting activity data\n"
     ]
    },
    {
     "name": "stderr",
     "output_type": "stream",
     "text": [
      "100%|█████████████████████████████████| 18121/18121 [00:00<00:00, 248758.69it/s]\n"
     ]
    },
    {
     "name": "stdout",
     "output_type": "stream",
     "text": [
      "Adding exchange data to activities\n"
     ]
    },
    {
     "name": "stderr",
     "output_type": "stream",
     "text": [
      "100%|█████████████████████████████████| 615644/615644 [01:31<00:00, 6757.32it/s]\n"
     ]
    },
    {
     "name": "stdout",
     "output_type": "stream",
     "text": [
      "Filling out exchange data\n"
     ]
    },
    {
     "name": "stderr",
     "output_type": "stream",
     "text": [
      "100%|███████████████████████████████████| 18121/18121 [00:01<00:00, 9317.23it/s]\n"
     ]
    },
    {
     "name": "stdout",
     "output_type": "stream",
     "text": [
      "Getting activity data\n"
     ]
    },
    {
     "name": "stderr",
     "output_type": "stream",
     "text": [
      "100%|███████████████████████████████████| 4451/4451 [00:00<00:00, 125509.92it/s]\n"
     ]
    },
    {
     "name": "stdout",
     "output_type": "stream",
     "text": [
      "Adding exchange data to activities\n"
     ]
    },
    {
     "name": "stderr",
     "output_type": "stream",
     "text": [
      "0it [00:00, ?it/s]\n"
     ]
    },
    {
     "name": "stdout",
     "output_type": "stream",
     "text": [
      "Filling out exchange data\n"
     ]
    },
    {
     "name": "stderr",
     "output_type": "stream",
     "text": [
      "100%|██████████████████████████████████| 4451/4451 [00:00<00:00, 4864212.38it/s]\n"
     ]
    },
    {
     "name": "stdout",
     "output_type": "stream",
     "text": [
      "Extracting additional inventories...\n",
      "Generating database for scenario test1...\n",
      "Generating database for scenario test2...\n",
      "Writing database for scenario test1...\n",
      "Database test1 already exists: it will be overwritten.\n",
      "Vacuuming database \n"
     ]
    },
    {
     "name": "stderr",
     "output_type": "stream",
     "text": [
      "Writing activities to SQLite3 database:\n",
      "0% [##############################] 100% | ETA: 00:00:00\n",
      "Total time elapsed: 00:00:47\n"
     ]
    },
    {
     "name": "stdout",
     "output_type": "stream",
     "text": [
      "Title: Writing activities to SQLite3 database:\n",
      "  Started: 12/20/2022 15:08:03\n",
      "  Finished: 12/20/2022 15:08:50\n",
      "  Total time elapsed: 00:00:47\n",
      "  CPU %: 84.40\n",
      "  Memory %: 20.07\n",
      "Created database: test1\n",
      "Writing database for scenario test2...\n",
      "Database test2 already exists: it will be overwritten.\n",
      "Vacuuming database \n"
     ]
    },
    {
     "name": "stderr",
     "output_type": "stream",
     "text": [
      "Writing activities to SQLite3 database:\n",
      "0% [##############################] 100% | ETA: 00:00:00\n",
      "Total time elapsed: 00:00:56\n"
     ]
    },
    {
     "name": "stdout",
     "output_type": "stream",
     "text": [
      "Title: Writing activities to SQLite3 database:\n",
      "  Started: 12/20/2022 15:13:41\n",
      "  Finished: 12/20/2022 15:14:37\n",
      "  Total time elapsed: 00:00:56\n",
      "  CPU %: 81.00\n",
      "  Memory %: 24.43\n",
      "Created database: test2\n"
     ]
    }
   ],
   "source": [
    "u.unfold()"
   ]
  },
  {
   "cell_type": "code",
   "execution_count": 9,
   "id": "c8c14f97-29f6-4e85-b8d8-4ef7f26adc03",
   "metadata": {},
   "outputs": [
    {
     "name": "stdout",
     "output_type": "stream",
     "text": [
      "Getting activity data\n"
     ]
    },
    {
     "name": "stderr",
     "output_type": "stream",
     "text": [
      "100%|█████████████████████████████████| 18121/18121 [00:00<00:00, 153681.09it/s]\n"
     ]
    },
    {
     "name": "stdout",
     "output_type": "stream",
     "text": [
      "Adding exchange data to activities\n"
     ]
    },
    {
     "name": "stderr",
     "output_type": "stream",
     "text": [
      "100%|█████████████████████████████████| 615644/615644 [02:13<00:00, 4616.26it/s]\n"
     ]
    },
    {
     "name": "stdout",
     "output_type": "stream",
     "text": [
      "Filling out exchange data\n"
     ]
    },
    {
     "name": "stderr",
     "output_type": "stream",
     "text": [
      "100%|███████████████████████████████████| 18121/18121 [00:03<00:00, 5505.75it/s]\n"
     ]
    },
    {
     "name": "stdout",
     "output_type": "stream",
     "text": [
      "Getting activity data\n"
     ]
    },
    {
     "name": "stderr",
     "output_type": "stream",
     "text": [
      "100%|███████████████████████████████████| 4451/4451 [00:00<00:00, 279093.56it/s]\n"
     ]
    },
    {
     "name": "stdout",
     "output_type": "stream",
     "text": [
      "Adding exchange data to activities\n"
     ]
    },
    {
     "name": "stderr",
     "output_type": "stream",
     "text": [
      "0it [00:00, ?it/s]\n"
     ]
    },
    {
     "name": "stdout",
     "output_type": "stream",
     "text": [
      "Filling out exchange data\n"
     ]
    },
    {
     "name": "stderr",
     "output_type": "stream",
     "text": [
      "100%|██████████████████████████████████| 4451/4451 [00:00<00:00, 3530417.38it/s]\n"
     ]
    },
    {
     "name": "stdout",
     "output_type": "stream",
     "text": [
      "Extracting additional inventories...\n",
      "Generating database for scenario test1...\n",
      "Generating database for scenario test2...\n",
      "Writing database for scenario test1...\n",
      "Database test1 already exists: it will be overwritten.\n",
      "Vacuuming database \n"
     ]
    },
    {
     "name": "stderr",
     "output_type": "stream",
     "text": [
      "Writing activities to SQLite3 database:\n",
      "0% [##############################] 100% | ETA: 00:00:00\n",
      "Total time elapsed: 00:00:55\n"
     ]
    },
    {
     "name": "stdout",
     "output_type": "stream",
     "text": [
      "Title: Writing activities to SQLite3 database:\n",
      "  Started: 12/20/2022 15:22:48\n",
      "  Finished: 12/20/2022 15:23:44\n",
      "  Total time elapsed: 00:00:55\n",
      "  CPU %: 72.10\n",
      "  Memory %: 12.27\n",
      "Created database: test1\n",
      "Writing database for scenario test2...\n",
      "Database test2 already exists: it will be overwritten.\n",
      "Vacuuming database \n"
     ]
    },
    {
     "name": "stderr",
     "output_type": "stream",
     "text": [
      "Writing activities to SQLite3 database:\n",
      "0% [##############################] 100% | ETA: 00:00:00\n",
      "Total time elapsed: 00:01:15\n"
     ]
    },
    {
     "name": "stdout",
     "output_type": "stream",
     "text": [
      "Title: Writing activities to SQLite3 database:\n",
      "  Started: 12/20/2022 15:28:47\n",
      "  Finished: 12/20/2022 15:30:02\n",
      "  Total time elapsed: 00:01:15\n",
      "  CPU %: 73.80\n",
      "  Memory %: 8.81\n",
      "Created database: test2\n"
     ]
    }
   ],
   "source": [
    "# alternatively, you can answer these questions directly by passing the following arguments\n",
    "u.unfold(\n",
    "    dependencies={\n",
    "        \"ecoinvent 3.6 cutoff\": \"ecoinvent 3.6 cutoff\",\n",
    "        \"biosphere3\": \"biosphere3\"\n",
    "    }\n",
    ")"
   ]
  },
  {
   "cell_type": "markdown",
   "id": "d9fc8eb2-854c-4e3e-a2a2-bf956b039c73",
   "metadata": {},
   "source": [
    "# unfold\n",
    "## superstructure databases\n",
    "`unfold` can also unfold [superstructure](https://link.springer.com/article/10.1007/s11367-021-01974-2) databases, to be used with [Activity Browser](https://github.com/LCA-ActivityBrowser/activity-browser).\n",
    "It will write only one database, regardless of the number of scenarios.\n",
    "It will also export a scenario difference spreadsheet to be read by Activity Browser."
   ]
  },
  {
   "cell_type": "code",
   "execution_count": 3,
   "id": "b98d50f1-18a5-46a7-aa44-6263ec40dd1b",
   "metadata": {},
   "outputs": [
    {
     "name": "stdout",
     "output_type": "stream",
     "text": [
      "Getting activity data\n"
     ]
    },
    {
     "name": "stderr",
     "output_type": "stream",
     "text": [
      "100%|█████████████████████████████████| 19569/19569 [00:00<00:00, 296096.82it/s]\n"
     ]
    },
    {
     "name": "stdout",
     "output_type": "stream",
     "text": [
      "Adding exchange data to activities\n"
     ]
    },
    {
     "name": "stderr",
     "output_type": "stream",
     "text": [
      "100%|████████████████████████████████| 630210/630210 [00:20<00:00, 30374.03it/s]\n"
     ]
    },
    {
     "name": "stdout",
     "output_type": "stream",
     "text": [
      "Filling out exchange data\n"
     ]
    },
    {
     "name": "stderr",
     "output_type": "stream",
     "text": [
      "100%|██████████████████████████████████| 19569/19569 [00:01<00:00, 13626.03it/s]\n"
     ]
    },
    {
     "name": "stdout",
     "output_type": "stream",
     "text": [
      "Getting activity data\n"
     ]
    },
    {
     "name": "stderr",
     "output_type": "stream",
     "text": [
      "100%|███████████████████████████████████| 4451/4451 [00:00<00:00, 291883.16it/s]\n"
     ]
    },
    {
     "name": "stdout",
     "output_type": "stream",
     "text": [
      "Adding exchange data to activities\n"
     ]
    },
    {
     "name": "stderr",
     "output_type": "stream",
     "text": [
      "0it [00:00, ?it/s]\n"
     ]
    },
    {
     "name": "stdout",
     "output_type": "stream",
     "text": [
      "Filling out exchange data\n"
     ]
    },
    {
     "name": "stderr",
     "output_type": "stream",
     "text": [
      "100%|██████████████████████████████████| 4451/4451 [00:00<00:00, 5158565.10it/s]\n"
     ]
    },
    {
     "name": "stdout",
     "output_type": "stream",
     "text": [
      "Writing scenario difference file...\n",
      "Scenario difference file exported to a package name.xlsx!\n",
      "Writing superstructure database...\n"
     ]
    },
    {
     "name": "stderr",
     "output_type": "stream",
     "text": [
      "Writing activities to SQLite3 database:\n",
      "0% [##############################] 100% | ETA: 00:00:00\n",
      "Total time elapsed: 00:00:27\n"
     ]
    },
    {
     "name": "stdout",
     "output_type": "stream",
     "text": [
      "Title: Writing activities to SQLite3 database:\n",
      "  Started: 11/19/2022 16:23:59\n",
      "  Finished: 11/19/2022 16:24:27\n",
      "  Total time elapsed: 00:00:27\n",
      "  CPU %: 85.50\n",
      "  Memory %: 31.25\n",
      "Created database: a package name\n"
     ]
    }
   ],
   "source": [
    "u.unfold(\n",
    "    scenarios=[0, 1],\n",
    "    dependencies={\n",
    "        \"cutoff38\": \"cutoff38\",\n",
    "        \"biosphere3\": \"biosphere3\"\n",
    "    },\n",
    "    superstructure=True # <-- NEW\n",
    ")"
   ]
  },
  {
   "cell_type": "markdown",
   "id": "964ba6ae-7102-4609-8445-fb76bb2e618b",
   "metadata": {},
   "source": [
    "## premise can also export datapackages"
   ]
  },
  {
   "cell_type": "code",
   "execution_count": 1,
   "id": "50d686bd-db40-444f-a2f1-142d669f1bfb",
   "metadata": {},
   "outputs": [],
   "source": [
    "from premise import *\n",
    "import bw2io, bw2data\n",
    "import pandas as pd"
   ]
  },
  {
   "cell_type": "code",
   "execution_count": 2,
   "id": "deca75bb-0f05-4316-a924-52dbfd40bd65",
   "metadata": {},
   "outputs": [],
   "source": [
    "bw2data.projects.set_current(\"democarmaup\")"
   ]
  },
  {
   "cell_type": "code",
   "execution_count": 3,
   "id": "ed37332e-02eb-4ba1-b8ef-90ffe140f0e6",
   "metadata": {},
   "outputs": [
    {
     "name": "stdout",
     "output_type": "stream",
     "text": [
      "premise v.(1, 3, 9)\n",
      "+------------------------------------------------------------------+\n",
      "| Warning                                                          |\n",
      "+------------------------------------------------------------------+\n",
      "| Because some of the scenarios can yield LCI databases            |\n",
      "| containing net negative emission technologies (NET),             |\n",
      "| it is advised to account for biogenic CO2 flows when calculating |\n",
      "| Global Warming potential indicators.                             |\n",
      "| `premise_gwp` provides characterization factors for such flows.  |\n",
      "| It also provides factors for hydrogen emissions to air.          |\n",
      "|                                                                  |\n",
      "| Within your bw2 project:                                         |\n",
      "| from premise_gwp import add_premise_gwp                          |\n",
      "| add_premise_gwp()                                                |\n",
      "+------------------------------------------------------------------+\n",
      "+--------------------------------+----------------------------------+\n",
      "| Utils functions                | Description                      |\n",
      "+--------------------------------+----------------------------------+\n",
      "| clear_cache()                  | Clears the cache folder. Useful  |\n",
      "|                                | when updating `premise`or        |\n",
      "|                                | encountering issues with         |\n",
      "|                                | inventories.                     |\n",
      "+--------------------------------+----------------------------------+\n",
      "| get_regions_definition(model)  | Retrieves the list of countries  |\n",
      "|                                | for each region of the model.    |\n",
      "+--------------------------------+----------------------------------+\n",
      "| ndb.NewDatabase(...)           | Generates a summary of the most  |\n",
      "| ndb.generate_scenario_report() | important scenarios' variables.  |\n",
      "+--------------------------------+----------------------------------+\n",
      "Keep uncertainty data?\n",
      "NewDatabase(..., keep_uncertainty_data=True)\n",
      "\n",
      "Hide these messages?\n",
      "NewDatabase(..., quiet=True)\n",
      "\n",
      "//////////////////// EXTRACTING SOURCE DATABASE ////////////////////\n",
      "Done!\n",
      "\n",
      "////////////////// IMPORTING DEFAULT INVENTORIES ///////////////////\n",
      "Done!\n",
      "\n",
      "/////////////////////// EXTRACTING IAM DATA ////////////////////////\n",
      "Done!\n"
     ]
    }
   ],
   "source": [
    "ndb = NewDatabase(\n",
    "    scenarios = [\n",
    "        {\"model\":\"image\", \"pathway\":\"SSP2-Base\", \"year\":2025},\n",
    "        {\"model\":\"image\", \"pathway\":\"SSP2-Base\", \"year\":2050},\n",
    "    ],\n",
    "    source_db=\"cutoff38\", # <- give the exact name of the database as registered in the project\n",
    "    source_version=\"3.8\",\n",
    "    key='tUePmX_S5B8ieZkkM7WUU2CnO8SmShwmAeWK9x2rTFo=',\n",
    ")"
   ]
  },
  {
   "cell_type": "code",
   "execution_count": 4,
   "id": "6e508711-1698-42d8-9683-3321f9b5df40",
   "metadata": {},
   "outputs": [
    {
     "name": "stdout",
     "output_type": "stream",
     "text": [
      "\n",
      "////////////////////////////// STEEL //////////////////////////////\n",
      "Log of deleted steel datasets saved in /Users/romain/GitHub/premise/premise/data/logs\n",
      "Log of created steel datasets saved in /Users/romain/GitHub/premise/premise/data/logs\n",
      "Create steel markets for different regions\n",
      "Create new steel production datasets and empty old datasets\n",
      "Create pig iron production datasets\n",
      "Done!\n",
      "Log of deleted steel datasets saved in /Users/romain/GitHub/premise/premise/data/logs\n",
      "Log of created steel datasets saved in /Users/romain/GitHub/premise/premise/data/logs\n",
      "Create steel markets for different regions\n",
      "Create new steel production datasets and empty old datasets\n",
      "Create pig iron production datasets\n",
      "Done!\n"
     ]
    }
   ],
   "source": [
    "ndb.update_steel()\n",
    "#ndb.update_electricity()"
   ]
  },
  {
   "cell_type": "code",
   "execution_count": 5,
   "id": "6c83cddc-cd5d-456b-a825-638fa334b0ed",
   "metadata": {},
   "outputs": [
    {
     "name": "stdout",
     "output_type": "stream",
     "text": [
      "Write new database(s) to Brightway2.\n",
      "Prepare database 1.\n",
      "- check for duplicates...\n",
      "- check for values format...\n",
      "- relinking exchanges...\n",
      "Done!\n"
     ]
    },
    {
     "name": "stderr",
     "output_type": "stream",
     "text": [
      "Writing activities to SQLite3 database:\n",
      "0% [##############################] 100% | ETA: 00:00:00\n",
      "Total time elapsed: 00:00:21\n"
     ]
    },
    {
     "name": "stdout",
     "output_type": "stream",
     "text": [
      "Title: Writing activities to SQLite3 database:\n",
      "  Started: 11/20/2022 10:22:19\n",
      "  Finished: 11/20/2022 10:22:40\n",
      "  Total time elapsed: 00:00:21\n",
      "  CPU %: 89.30\n",
      "  Memory %: 10.54\n",
      "Created database: test1\n",
      "Prepare database 2.\n",
      "- check for duplicates...\n",
      "- check for values format...\n",
      "- relinking exchanges...\n",
      "Done!\n"
     ]
    },
    {
     "name": "stderr",
     "output_type": "stream",
     "text": [
      "Writing activities to SQLite3 database:\n",
      "0% [##############################] 100% | ETA: 00:00:00\n",
      "Total time elapsed: 00:00:21\n"
     ]
    },
    {
     "name": "stdout",
     "output_type": "stream",
     "text": [
      "Title: Writing activities to SQLite3 database:\n",
      "  Started: 11/20/2022 10:24:34\n",
      "  Finished: 11/20/2022 10:24:55\n",
      "  Total time elapsed: 00:00:21\n",
      "  CPU %: 89.50\n",
      "  Memory %: 11.44\n",
      "Created database: test2\n"
     ]
    }
   ],
   "source": [
    "ndb.write_db_to_brightway([\"test1\", \"test2\"])"
   ]
  },
  {
   "cell_type": "code",
   "execution_count": 5,
   "id": "458eb401-91e1-41bc-acaa-3454d4569b61",
   "metadata": {},
   "outputs": [
    {
     "name": "stdout",
     "output_type": "stream",
     "text": [
      "Prepare database 1.\n",
      "- check for duplicates...\n",
      "- check for values format...\n",
      "- relinking exchanges...\n",
      "Done!\n",
      "Prepare database 2.\n",
      "- check for duplicates...\n",
      "- check for values format...\n",
      "- relinking exchanges...\n",
      "Done!\n",
      "Building superstructure database...\n",
      "Dropped 0 duplicate(s).\n",
      "Scenario difference file exported to /Users/romain/GitHub/premise/premise/data/export/scenario diff files!\n",
      "Done!\n"
     ]
    },
    {
     "name": "stderr",
     "output_type": "stream",
     "text": [
      "Writing activities to SQLite3 database:\n",
      "0% [##############################] 100% | ETA: 00:00:00\n",
      "Total time elapsed: 00:00:23\n"
     ]
    },
    {
     "name": "stdout",
     "output_type": "stream",
     "text": [
      "Title: Writing activities to SQLite3 database:\n",
      "  Started: 11/19/2022 16:05:48\n",
      "  Finished: 11/19/2022 16:06:12\n",
      "  Total time elapsed: 00:00:23\n",
      "  CPU %: 88.20\n",
      "  Memory %: 11.00\n",
      "Created database: super_db_2022-11-19\n"
     ]
    }
   ],
   "source": [
    "ndb.write_superstructure_db_to_brightway()"
   ]
  },
  {
   "cell_type": "code",
   "execution_count": 5,
   "id": "b3761894-a922-4f7b-b92c-c2e22dd687df",
   "metadata": {},
   "outputs": [
    {
     "name": "stdout",
     "output_type": "stream",
     "text": [
      "Prepare database 1.\n",
      "- check for duplicates...\n",
      "- check for values format...\n",
      "- relinking exchanges...\n",
      "Done!\n",
      "Building scenario factor file...\n",
      "Data package saved at /Users/romain/GitHub/premise/premise/data/export/datapackage/datapackage_2022-11-17.zip\n"
     ]
    }
   ],
   "source": [
    "ndb.write_datapackage()"
   ]
  },
  {
   "cell_type": "code",
   "execution_count": null,
   "id": "6741c2b2-ddf8-4245-9643-cd244f84cf5c",
   "metadata": {},
   "outputs": [],
   "source": []
  }
 ],
 "metadata": {
  "kernelspec": {
   "display_name": "Python 3 (ipykernel)",
   "language": "python",
   "name": "python3"
  },
  "language_info": {
   "codemirror_mode": {
    "name": "ipython",
    "version": 3
   },
   "file_extension": ".py",
   "mimetype": "text/x-python",
   "name": "python",
   "nbconvert_exporter": "python",
   "pygments_lexer": "ipython3",
   "version": "3.10.8"
  }
 },
 "nbformat": 4,
 "nbformat_minor": 5
}
