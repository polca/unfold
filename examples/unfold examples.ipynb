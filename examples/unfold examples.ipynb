{
 "cells": [
  {
   "cell_type": "markdown",
   "id": "68a8b98c-0076-45e9-b9cc-1683185db98e",
   "metadata": {},
   "source": [
    "# How to use `unfold`\n",
    "\n",
    "Author: [Romain Sacchi](romain.sacchi@psi.ch)\n",
    "\n",
    "Github repo: https://github.com/romainsacchi/"
   ]
  },
  {
   "cell_type": "markdown",
   "id": "254cfacd-447f-4c68-853e-cc9e2fa1a8ff",
   "metadata": {},
   "source": [
    "## fold\n",
    "Several `brightway` databases are \"folded\" in a data package."
   ]
  },
  {
   "cell_type": "code",
   "execution_count": null,
   "id": "ce4d67df-16ba-4519-9a3d-ae3df1aa261d",
   "metadata": {},
   "outputs": [],
   "source": [
    "from unfold import Fold\n",
    "import bw2data\n",
    "bw2data.projects.set_current(\"carculator\") # <-- name of the brightway project containing both the source database and the databases to fold"
   ]
  },
  {
   "cell_type": "code",
   "execution_count": null,
   "id": "31c31868-719d-43d9-a450-18e1fdad7699",
   "metadata": {},
   "outputs": [],
   "source": [
    "f = Fold()"
   ]
  },
  {
   "cell_type": "code",
   "execution_count": null,
   "id": "25ea53d1-6215-4920-899e-aa3e97774b26",
   "metadata": {},
   "outputs": [],
   "source": [
    "f.fold()"
   ]
  },
  {
   "cell_type": "code",
   "execution_count": null,
   "id": "d9beebda-bf49-49ee-9c1d-423006731b23",
   "metadata": {},
   "outputs": [],
   "source": [
    "# alternatively, you can answer these questions directly by passing the following arguments\n",
    "f.fold(\n",
    "    package_name=\"a package name\",\n",
    "    package_description=\"some description\",\n",
    "    source=\"cutoff38\",\n",
    "    system_model=\"cut off\",\n",
    "    version=\"3.6\",\n",
    "    databases_to_fold=[\"ecoinvent_image_SSP2-Base_2025\", \"ecoinvent_image_SSP2-Base_2050\"],\n",
    "    descriptions=[\"some db\", \"some other db\"],\n",
    ")"
   ]
  },
  {
   "cell_type": "markdown",
   "id": "7e1aa729-ed61-4432-81be-ba269ce3e30e",
   "metadata": {},
   "source": [
    "## unfold\n",
    "Here, we read a data package, and we unfold and write the folded databases back into a `brightway` project.\n",
    "It will write one database per scenario to your `brightway` project."
   ]
  },
  {
   "cell_type": "code",
   "execution_count": null,
   "id": "f32b2de8-bc92-45d5-8d36-8a52739410af",
   "metadata": {},
   "outputs": [],
   "source": [
    "from unfold import Unfold\n",
    "import bw2data\n",
    "bw2data.projects.set_current(\"carculator\")"
   ]
  },
  {
   "cell_type": "code",
   "execution_count": null,
   "id": "8280c74c-e9d6-4cd1-9e9d-8511704901c8",
   "metadata": {},
   "outputs": [],
   "source": [
    "u = Unfold(\"srgd.zip\")"
   ]
  },
  {
   "cell_type": "code",
   "execution_count": null,
   "id": "71675d15-0616-46d4-a98e-3d2087c332ae",
   "metadata": {},
   "outputs": [],
   "source": [
    "u.unfold()"
   ]
  },
  {
   "cell_type": "code",
   "execution_count": null,
   "id": "c8c14f97-29f6-4e85-b8d8-4ef7f26adc03",
   "metadata": {},
   "outputs": [],
   "source": [
    "# alternatively, you can answer these questions directly by passing the following arguments\n",
    "u.unfold(\n",
    "    dependencies={\n",
    "        \"ecoinvent 3.6 cutoff\": \"ecoinvent 3.6 cutoff\",\n",
    "        \"biosphere3\": \"biosphere3\"\n",
    "    }\n",
    ")"
   ]
  },
  {
   "cell_type": "markdown",
   "id": "d9fc8eb2-854c-4e3e-a2a2-bf956b039c73",
   "metadata": {},
   "source": [
    "# unfold\n",
    "## superstructure databases\n",
    "`unfold` can also unfold [superstructure](https://link.springer.com/article/10.1007/s11367-021-01974-2) databases, to be used with [Activity Browser](https://github.com/LCA-ActivityBrowser/activity-browser).\n",
    "It will write only one database, regardless of the number of scenarios.\n",
    "It will also export a scenario difference spreadsheet to be read by Activity Browser."
   ]
  },
  {
   "cell_type": "code",
   "execution_count": null,
   "id": "b98d50f1-18a5-46a7-aa44-6263ec40dd1b",
   "metadata": {},
   "outputs": [],
   "source": [
    "u.unfold(\n",
    "    scenarios=[0, 1],\n",
    "    dependencies={\n",
    "        \"cutoff38\": \"cutoff38\",\n",
    "        \"biosphere3\": \"biosphere3\"\n",
    "    },\n",
    "    superstructure=True # <-- NEW\n",
    ")"
   ]
  }
 ],
 "metadata": {
  "kernelspec": {
   "display_name": "Python 3 (ipykernel)",
   "language": "python",
   "name": "python3"
  },
  "language_info": {
   "codemirror_mode": {
    "name": "ipython",
    "version": 3
   },
   "file_extension": ".py",
   "mimetype": "text/x-python",
   "name": "python",
   "nbconvert_exporter": "python",
   "pygments_lexer": "ipython3",
   "version": "3.10.8"
  }
 },
 "nbformat": 4,
 "nbformat_minor": 5
}
