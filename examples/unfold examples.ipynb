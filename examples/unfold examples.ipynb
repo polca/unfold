{
 "cells": [
  {
   "cell_type": "markdown",
   "id": "68a8b98c-0076-45e9-b9cc-1683185db98e",
   "metadata": {},
   "source": [
    "# How to use `unfold`\n",
    "\n",
    "Author: [Romain Sacchi](romain.sacchi@psi.ch)\n",
    "\n",
    "Github repo: https://github.com/romainsacchi/"
   ]
  },
  {
   "cell_type": "markdown",
   "id": "254cfacd-447f-4c68-853e-cc9e2fa1a8ff",
   "metadata": {},
   "source": [
    "## fold\n",
    "Several `brightway` databases are \"folded\" in a data package."
   ]
  },
  {
   "cell_type": "code",
   "execution_count": 16,
   "id": "ce4d67df-16ba-4519-9a3d-ae3df1aa261d",
   "metadata": {},
   "outputs": [],
   "source": [
    "from unfold import Fold, Unfold\n",
    "import numpy as np\n",
    "import bw2data, bw2calc\n",
    "import brightway2 as bw\n",
    "bw2data.projects.set_current(\"new\") # <-- name of the brightway project containing both the source database and the databases to fold"
   ]
  },
  {
   "cell_type": "markdown",
   "id": "8454d6f0-3734-410f-bf5a-b7f61ae8a31f",
   "metadata": {},
   "source": [
    "Consider a reference LCA database `reference database` and two other databases `db A` and `db B` which are slightly modified versions of `reference database`."
   ]
  },
  {
   "cell_type": "code",
   "execution_count": 5,
   "id": "8510372e-fa94-4229-8bf0-70ded6ca0ef8",
   "metadata": {},
   "outputs": [
    {
     "name": "stderr",
     "output_type": "stream",
     "text": [
      "Writing activities to SQLite3 database:\n",
      "0% [####] 100% | ETA: 00:00:00\n",
      "Total time elapsed: 00:00:00\n"
     ]
    },
    {
     "name": "stdout",
     "output_type": "stream",
     "text": [
      "Title: Writing activities to SQLite3 database:\n",
      "  Started: 03/14/2023 17:32:33\n",
      "  Finished: 03/14/2023 17:32:33\n",
      "  Total time elapsed: 00:00:00\n",
      "  CPU %: 108.10\n",
      "  Memory %: 3.12\n"
     ]
    },
    {
     "name": "stderr",
     "output_type": "stream",
     "text": [
      "Writing activities to SQLite3 database:\n",
      "0% [####] 100% | ETA: 00:00:00\n",
      "Total time elapsed: 00:00:00\n"
     ]
    },
    {
     "name": "stdout",
     "output_type": "stream",
     "text": [
      "Title: Writing activities to SQLite3 database:\n",
      "  Started: 03/14/2023 17:32:34\n",
      "  Finished: 03/14/2023 17:32:34\n",
      "  Total time elapsed: 00:00:00\n",
      "  CPU %: 106.60\n",
      "  Memory %: 3.20\n"
     ]
    },
    {
     "name": "stderr",
     "output_type": "stream",
     "text": [
      "Writing activities to SQLite3 database:\n",
      "0% [####] 100% | ETA: 00:00:00\n",
      "Total time elapsed: 00:00:00\n"
     ]
    },
    {
     "name": "stdout",
     "output_type": "stream",
     "text": [
      "Title: Writing activities to SQLite3 database:\n",
      "  Started: 03/14/2023 17:32:34\n",
      "  Finished: 03/14/2023 17:32:34\n",
      "  Total time elapsed: 00:00:00\n",
      "  CPU %: 111.30\n",
      "  Memory %: 3.28\n"
     ]
    }
   ],
   "source": [
    "import yaml\n",
    "\n",
    "fp = \"reference_database.yaml\"\n",
    "with open(fp, \"r\") as stream:\n",
    "    db = yaml.load(stream, Loader=yaml.FullLoader)\n",
    "    \n",
    "fp = \"db A.yaml\"\n",
    "\n",
    "with open(fp, \"r\") as stream:\n",
    "    db_a = yaml.load(stream, Loader=yaml.FullLoader)\n",
    "    \n",
    "fp = \"db B.yaml\"\n",
    "\n",
    "with open(fp, \"r\") as stream:\n",
    "    db_b = yaml.load(stream, Loader=yaml.FullLoader)\n",
    "    \n",
    "    \n",
    "bw.Database(\"reference_database\").write(db)\n",
    "bw.Database(\"db A\").write(db_a)\n",
    "bw.Database(\"db B\").write(db_b)"
   ]
  },
  {
   "cell_type": "markdown",
   "id": "7b72cc4b-1b70-4d2d-a1e1-19b20cc37aed",
   "metadata": {},
   "source": [
    "We calculate the supply array for 1 kg of `Activity A` from `db A` and `db B`."
   ]
  },
  {
   "cell_type": "code",
   "execution_count": 6,
   "id": "0f5b6b3f-946a-43fe-964a-3213ce6ff673",
   "metadata": {},
   "outputs": [
    {
     "name": "stderr",
     "output_type": "stream",
     "text": [
      "/opt/homebrew/Caskroom/miniforge/base/envs/unfold/lib/python3.10/site-packages/bw2calc/lca.py:228: UserWarning: No biosphere flows found. No inventory results can be calculated, `lcia` will raise an error\n",
      "  warnings.warn(\"No biosphere flows found. No inventory results can \"\n"
     ]
    },
    {
     "data": {
      "text/plain": [
       "array([ 1.        , 10.62500066, 19.56250163,  0.        ])"
      ]
     },
     "execution_count": 6,
     "metadata": {},
     "output_type": "execute_result"
    }
   ],
   "source": [
    "lca = bw.LCA({bw.get_activity((\"db A\", \"activity A\")): 1})\n",
    "lca.lci()\n",
    "original_supply_A = lca.supply_array\n",
    "original_supply_A"
   ]
  },
  {
   "cell_type": "code",
   "execution_count": 8,
   "id": "e0dd411f-f327-45b1-b831-4581fcfa4e93",
   "metadata": {},
   "outputs": [
    {
     "data": {
      "text/plain": [
       "array([ 1.        , 10.56250097, 19.1562522 ,  0.        ])"
      ]
     },
     "execution_count": 8,
     "metadata": {},
     "output_type": "execute_result"
    }
   ],
   "source": [
    "lca = bw.LCA({bw.get_activity((\"db B\", \"activity A\")): 1})\n",
    "lca.lci()\n",
    "original_supply_B = lca.supply_array\n",
    "original_supply_B"
   ]
  },
  {
   "cell_type": "code",
   "execution_count": 26,
   "id": "314cadbb-3086-46a6-a4fd-819db5ea2cf3",
   "metadata": {},
   "outputs": [
    {
     "name": "stdout",
     "output_type": "stream",
     "text": [
      "True\n",
      "True\n",
      "True\n"
     ]
    }
   ],
   "source": [
    "lca = bw.LCA({bw.get_activity((\"reference_database\", \"activity A\")): 1})\n",
    "lca.lci()\n",
    "reference = lca.supply_array\n",
    "\n",
    "print(np.allclose(reference, original_supply_A) == False)\n",
    "print(np.allclose(reference, original_supply_B) == False)\n",
    "print(np.allclose(original_supply_A, original_supply_B) == False)"
   ]
  },
  {
   "cell_type": "markdown",
   "id": "4e6d2855-df42-4324-82d0-d64dfe7bd1fd",
   "metadata": {},
   "source": [
    "We can see that `db A` and `db B` are slightly different from one another, and also different from `reference database`."
   ]
  },
  {
   "cell_type": "markdown",
   "id": "b27f713d-ef3e-4e7f-9a29-1f33ef9195ec",
   "metadata": {},
   "source": [
    "Let's **fold** `db A` and `db B`."
   ]
  },
  {
   "cell_type": "code",
   "execution_count": 11,
   "id": "59cadb77-33da-4124-9af0-0bc791efa26f",
   "metadata": {},
   "outputs": [
    {
     "name": "stdout",
     "output_type": "stream",
     "text": [
      "Extracting source database...\n",
      "Done!\n",
      "Extracting databases to fold...\n",
      "Done!\n",
      "Building scenario factor file...\n",
      "Data package saved at test.zip\n"
     ]
    }
   ],
   "source": [
    "Fold().fold(\n",
    "    package_name=\"test\",\n",
    "    package_description=\"description of test\",\n",
    "    source=\"reference_database\",\n",
    "    system_model=\"cutoff\",\n",
    "    version=\"2.0\",\n",
    "    databases_to_fold=[\"db A\", \"db B\"],\n",
    "    descriptions=[\"this is db A\", \"this is db B\"]\n",
    ")"
   ]
  },
  {
   "cell_type": "markdown",
   "id": "0f520693-3f55-4c8b-8939-b583a3526d20",
   "metadata": {},
   "source": [
    "Now, let's **unfold** them, pointing at `reference database` as the reference database."
   ]
  },
  {
   "cell_type": "code",
   "execution_count": 14,
   "id": "58bbf368-c698-4d67-88a8-542d5de4cc55",
   "metadata": {},
   "outputs": [
    {
     "name": "stdout",
     "output_type": "stream",
     "text": [
      "The data package contains the following scenarios:\n",
      "+-----+----------+--------------+\n",
      "| No. | Scenario | Description  |\n",
      "+-----+----------+--------------+\n",
      "|  0  |   db A   | this is db A |\n",
      "|  1  |   db B   | this is db B |\n",
      "+-----+----------+--------------+\n",
      "\n",
      "To unfold all scenarios, `unfold()`.\n",
      "To unfold a specific scenario, `unfold(scenarios=[1,])`.\n",
      "Getting activity data\n"
     ]
    },
    {
     "name": "stderr",
     "output_type": "stream",
     "text": [
      "100%|█████████████████████████████████████████████████████████████████████████████████████████████████████████████████████████████| 4/4 [00:00<00:00, 62368.83it/s]\n"
     ]
    },
    {
     "name": "stdout",
     "output_type": "stream",
     "text": [
      "Adding exchange data to activities\n"
     ]
    },
    {
     "name": "stderr",
     "output_type": "stream",
     "text": [
      "100%|████████████████████████████████████████████████████████████████████████████████████████████████████████████████████████████| 10/10 [00:00<00:00, 7936.24it/s]\n"
     ]
    },
    {
     "name": "stdout",
     "output_type": "stream",
     "text": [
      "Filling out exchange data\n"
     ]
    },
    {
     "name": "stderr",
     "output_type": "stream",
     "text": [
      "100%|█████████████████████████████████████████████████████████████████████████████████████████████████████████████████████████████| 4/4 [00:00<00:00, 23237.14it/s]"
     ]
    },
    {
     "name": "stdout",
     "output_type": "stream",
     "text": [
      "Extracting additional inventories...\n",
      "Generating database for scenario db A...\n",
      "Generating database for scenario db B...\n",
      "Writing database for scenario db A...\n",
      "Database db A already exists: it will be overwritten.\n"
     ]
    },
    {
     "name": "stderr",
     "output_type": "stream",
     "text": [
      "\n",
      "Writing activities to SQLite3 database:\n",
      "0% [####] 100% | ETA: 00:00:00\n",
      "Total time elapsed: 00:00:00\n"
     ]
    },
    {
     "name": "stdout",
     "output_type": "stream",
     "text": [
      "Title: Writing activities to SQLite3 database:\n",
      "  Started: 03/14/2023 17:37:09\n",
      "  Finished: 03/14/2023 17:37:09\n",
      "  Total time elapsed: 00:00:00\n",
      "  CPU %: 102.20\n",
      "  Memory %: 4.00\n",
      "Created database: db A\n",
      "Writing database for scenario db B...\n",
      "Database db B already exists: it will be overwritten.\n"
     ]
    },
    {
     "name": "stderr",
     "output_type": "stream",
     "text": [
      "Writing activities to SQLite3 database:\n",
      "0% [####] 100% | ETA: 00:00:00\n",
      "Total time elapsed: 00:00:00\n"
     ]
    },
    {
     "name": "stdout",
     "output_type": "stream",
     "text": [
      "Title: Writing activities to SQLite3 database:\n",
      "  Started: 03/14/2023 17:37:10\n",
      "  Finished: 03/14/2023 17:37:10\n",
      "  Total time elapsed: 00:00:00\n",
      "  CPU %: 100.60\n",
      "  Memory %: 4.02\n",
      "Created database: db B\n"
     ]
    }
   ],
   "source": [
    "Unfold(\"test.zip\").unfold(\n",
    "    dependencies={\n",
    "        \"reference_database\": \"reference_database\"\n",
    "    }\n",
    ")"
   ]
  },
  {
   "cell_type": "markdown",
   "id": "b92bb3db-c45c-478b-b25d-fc25f0ca77c8",
   "metadata": {},
   "source": [
    "Let's confirm that the supply arrays from 1 kg of `Activity A` from `db A` and `db B` are identical as before."
   ]
  },
  {
   "cell_type": "code",
   "execution_count": 17,
   "id": "8b693e81-6d63-4782-b868-03b167931e09",
   "metadata": {},
   "outputs": [
    {
     "data": {
      "text/plain": [
       "True"
      ]
     },
     "execution_count": 17,
     "metadata": {},
     "output_type": "execute_result"
    }
   ],
   "source": [
    "lca = bw.LCA({bw.get_activity((\"db A\", \"activity A\")): 1})\n",
    "lca.lci()\n",
    "new_supply_A = lca.supply_array\n",
    "np.allclose(original_supply_A, new_supply_A)"
   ]
  },
  {
   "cell_type": "code",
   "execution_count": 18,
   "id": "de8fc461-e53d-41ce-b930-2297503c8b0a",
   "metadata": {},
   "outputs": [
    {
     "data": {
      "text/plain": [
       "True"
      ]
     },
     "execution_count": 18,
     "metadata": {},
     "output_type": "execute_result"
    }
   ],
   "source": [
    "lca = bw.LCA({bw.get_activity((\"db B\", \"activity A\")): 1})\n",
    "lca.lci()\n",
    "new_supply_B = lca.supply_array\n",
    "np.allclose(original_supply_B, new_supply_B)"
   ]
  },
  {
   "cell_type": "markdown",
   "id": "d9fc8eb2-854c-4e3e-a2a2-bf956b039c73",
   "metadata": {},
   "source": [
    "# unfold\n",
    "## superstructure databases\n",
    "`unfold` can also unfold [superstructure](https://link.springer.com/article/10.1007/s11367-021-01974-2) databases, to be used with [Activity Browser](https://github.com/LCA-ActivityBrowser/activity-browser).\n",
    "It will write only one database, regardless of the number of scenarios.\n",
    "It will also export a scenario difference spreadsheet to be read by Activity Browser."
   ]
  },
  {
   "cell_type": "code",
   "execution_count": 22,
   "id": "b98d50f1-18a5-46a7-aa44-6263ec40dd1b",
   "metadata": {},
   "outputs": [
    {
     "name": "stdout",
     "output_type": "stream",
     "text": [
      "The data package contains the following scenarios:\n",
      "+-----+----------+--------------+\n",
      "| No. | Scenario | Description  |\n",
      "+-----+----------+--------------+\n",
      "|  0  |   db A   | this is db A |\n",
      "|  1  |   db B   | this is db B |\n",
      "+-----+----------+--------------+\n",
      "\n",
      "To unfold all scenarios, `unfold()`.\n",
      "To unfold a specific scenario, `unfold(scenarios=[1,])`.\n",
      "Getting activity data\n"
     ]
    },
    {
     "name": "stderr",
     "output_type": "stream",
     "text": [
      "100%|█████████████████████████████████████████████████████████████████████████████████████████████████████████████████████████████| 4/4 [00:00<00:00, 65793.00it/s]\n"
     ]
    },
    {
     "name": "stdout",
     "output_type": "stream",
     "text": [
      "Adding exchange data to activities\n"
     ]
    },
    {
     "name": "stderr",
     "output_type": "stream",
     "text": [
      "100%|████████████████████████████████████████████████████████████████████████████████████████████████████████████████████████████| 10/10 [00:00<00:00, 8290.78it/s]\n"
     ]
    },
    {
     "name": "stdout",
     "output_type": "stream",
     "text": [
      "Filling out exchange data\n"
     ]
    },
    {
     "name": "stderr",
     "output_type": "stream",
     "text": [
      "100%|█████████████████████████████████████████████████████████████████████████████████████████████████████████████████████████████| 4/4 [00:00<00:00, 90687.65it/s]"
     ]
    },
    {
     "name": "stdout",
     "output_type": "stream",
     "text": [
      "Extracting additional inventories...\n",
      "Writing scenario difference file...\n",
      "Generating superstructure database...\n",
      "Scenario difference file exported to test.xlsx!\n",
      "\n",
      "Writing superstructure database...\n"
     ]
    },
    {
     "name": "stderr",
     "output_type": "stream",
     "text": [
      "\n",
      "Writing activities to SQLite3 database:\n",
      "0% [####] 100% | ETA: 00:00:00\n",
      "Total time elapsed: 00:00:00\n"
     ]
    },
    {
     "name": "stdout",
     "output_type": "stream",
     "text": [
      "Title: Writing activities to SQLite3 database:\n",
      "  Started: 03/14/2023 17:39:59\n",
      "  Finished: 03/14/2023 17:39:59\n",
      "  Total time elapsed: 00:00:00\n",
      "  CPU %: 108.20\n",
      "  Memory %: 3.70\n",
      "Created database: test\n"
     ]
    }
   ],
   "source": [
    "Unfold(\"test.zip\").unfold(\n",
    "    dependencies={\n",
    "        \"reference_database\": \"reference_database\"\n",
    "    },\n",
    "    superstructure=True # <-- NEW\n",
    ")"
   ]
  },
  {
   "cell_type": "markdown",
   "id": "a19e72f5-7e36-42ea-85ae-7cac81b69e9d",
   "metadata": {},
   "source": [
    "# unfold from an online repository"
   ]
  },
  {
   "cell_type": "markdown",
   "id": "77f68e87-e247-44f2-8955-7cc726e69e86",
   "metadata": {},
   "source": [
    "The repository [`replicate`](https://github.com/polca/replicate) lists data packages of scenario LCA databases.\n",
    "We can download the data package to get REMIND scenario databases [here](https://zenodo.org/record/7476755).\n",
    "\n",
    "And then we can unfold the scenarios of interest."
   ]
  },
  {
   "cell_type": "code",
   "execution_count": 3,
   "id": "0a8c64b9-5f97-47e3-8da5-cc47ec788588",
   "metadata": {},
   "outputs": [
    {
     "name": "stdout",
     "output_type": "stream",
     "text": [
      "The data package contains the following scenarios:\n",
      "+-----+---------------------------------+------------------------------------------------------------------------------+\n",
      "| No. |             Scenario            |                                 Description                                  |\n",
      "+-----+---------------------------------+------------------------------------------------------------------------------+\n",
      "|  0  |    remind - SSP2-Base - 2005    |    Prospective db, based on REMIND, pathway SSP2-BASE, for the year 2005.    |\n",
      "|  1  |    remind - SSP2-Base - 2010    |    Prospective db, based on REMIND, pathway SSP2-BASE, for the year 2010.    |\n",
      "|  2  |    remind - SSP2-Base - 2015    |    Prospective db, based on REMIND, pathway SSP2-BASE, for the year 2015.    |\n",
      "|  3  |    remind - SSP2-Base - 2020    |    Prospective db, based on REMIND, pathway SSP2-BASE, for the year 2020.    |\n",
      "|  4  |    remind - SSP2-Base - 2025    |    Prospective db, based on REMIND, pathway SSP2-BASE, for the year 2025.    |\n",
      "|  5  |    remind - SSP2-Base - 2030    |    Prospective db, based on REMIND, pathway SSP2-BASE, for the year 2030.    |\n",
      "|  6  |    remind - SSP2-Base - 2035    |    Prospective db, based on REMIND, pathway SSP2-BASE, for the year 2035.    |\n",
      "|  7  |    remind - SSP2-Base - 2040    |    Prospective db, based on REMIND, pathway SSP2-BASE, for the year 2040.    |\n",
      "|  8  |    remind - SSP2-Base - 2045    |    Prospective db, based on REMIND, pathway SSP2-BASE, for the year 2045.    |\n",
      "|  9  |    remind - SSP2-Base - 2050    |    Prospective db, based on REMIND, pathway SSP2-BASE, for the year 2050.    |\n",
      "|  10 |    remind - SSP2-Base - 2055    |    Prospective db, based on REMIND, pathway SSP2-BASE, for the year 2055.    |\n",
      "|  11 |    remind - SSP2-Base - 2060    |    Prospective db, based on REMIND, pathway SSP2-BASE, for the year 2060.    |\n",
      "|  12 |    remind - SSP2-Base - 2065    |    Prospective db, based on REMIND, pathway SSP2-BASE, for the year 2065.    |\n",
      "|  13 |    remind - SSP2-Base - 2070    |    Prospective db, based on REMIND, pathway SSP2-BASE, for the year 2070.    |\n",
      "|  14 |    remind - SSP2-Base - 2075    |    Prospective db, based on REMIND, pathway SSP2-BASE, for the year 2075.    |\n",
      "|  15 |    remind - SSP2-Base - 2080    |    Prospective db, based on REMIND, pathway SSP2-BASE, for the year 2080.    |\n",
      "|  16 |    remind - SSP2-Base - 2085    |    Prospective db, based on REMIND, pathway SSP2-BASE, for the year 2085.    |\n",
      "|  17 |    remind - SSP2-Base - 2090    |    Prospective db, based on REMIND, pathway SSP2-BASE, for the year 2090.    |\n",
      "|  18 |    remind - SSP2-Base - 2095    |    Prospective db, based on REMIND, pathway SSP2-BASE, for the year 2095.    |\n",
      "|  19 |    remind - SSP2-Base - 2100    |    Prospective db, based on REMIND, pathway SSP2-BASE, for the year 2100.    |\n",
      "|  20 |     remind - SSP2-NDC - 2005    |    Prospective db, based on REMIND, pathway SSP2-NDC, for the year 2005.     |\n",
      "|  21 |     remind - SSP2-NDC - 2010    |    Prospective db, based on REMIND, pathway SSP2-NDC, for the year 2010.     |\n",
      "|  22 |     remind - SSP2-NDC - 2015    |    Prospective db, based on REMIND, pathway SSP2-NDC, for the year 2015.     |\n",
      "|  23 |     remind - SSP2-NDC - 2020    |    Prospective db, based on REMIND, pathway SSP2-NDC, for the year 2020.     |\n",
      "|  24 |     remind - SSP2-NDC - 2025    |    Prospective db, based on REMIND, pathway SSP2-NDC, for the year 2025.     |\n",
      "|  25 |     remind - SSP2-NDC - 2030    |    Prospective db, based on REMIND, pathway SSP2-NDC, for the year 2030.     |\n",
      "|  26 |     remind - SSP2-NDC - 2035    |    Prospective db, based on REMIND, pathway SSP2-NDC, for the year 2035.     |\n",
      "|  27 |     remind - SSP2-NDC - 2040    |    Prospective db, based on REMIND, pathway SSP2-NDC, for the year 2040.     |\n",
      "|  28 |     remind - SSP2-NDC - 2045    |    Prospective db, based on REMIND, pathway SSP2-NDC, for the year 2045.     |\n",
      "|  29 |     remind - SSP2-NDC - 2050    |    Prospective db, based on REMIND, pathway SSP2-NDC, for the year 2050.     |\n",
      "|  30 |     remind - SSP2-NDC - 2055    |    Prospective db, based on REMIND, pathway SSP2-NDC, for the year 2055.     |\n",
      "|  31 |     remind - SSP2-NDC - 2060    |    Prospective db, based on REMIND, pathway SSP2-NDC, for the year 2060.     |\n",
      "|  32 |     remind - SSP2-NDC - 2065    |    Prospective db, based on REMIND, pathway SSP2-NDC, for the year 2065.     |\n",
      "|  33 |     remind - SSP2-NDC - 2070    |    Prospective db, based on REMIND, pathway SSP2-NDC, for the year 2070.     |\n",
      "|  34 |     remind - SSP2-NDC - 2075    |    Prospective db, based on REMIND, pathway SSP2-NDC, for the year 2075.     |\n",
      "|  35 |     remind - SSP2-NDC - 2080    |    Prospective db, based on REMIND, pathway SSP2-NDC, for the year 2080.     |\n",
      "|  36 |     remind - SSP2-NDC - 2085    |    Prospective db, based on REMIND, pathway SSP2-NDC, for the year 2085.     |\n",
      "|  37 |     remind - SSP2-NDC - 2090    |    Prospective db, based on REMIND, pathway SSP2-NDC, for the year 2090.     |\n",
      "|  38 |     remind - SSP2-NDC - 2095    |    Prospective db, based on REMIND, pathway SSP2-NDC, for the year 2095.     |\n",
      "|  39 |     remind - SSP2-NDC - 2100    |    Prospective db, based on REMIND, pathway SSP2-NDC, for the year 2100.     |\n",
      "|  40 |     remind - SSP2-NPi - 2005    |    Prospective db, based on REMIND, pathway SSP2-NPI, for the year 2005.     |\n",
      "|  41 |     remind - SSP2-NPi - 2010    |    Prospective db, based on REMIND, pathway SSP2-NPI, for the year 2010.     |\n",
      "|  42 |     remind - SSP2-NPi - 2015    |    Prospective db, based on REMIND, pathway SSP2-NPI, for the year 2015.     |\n",
      "|  43 |     remind - SSP2-NPi - 2020    |    Prospective db, based on REMIND, pathway SSP2-NPI, for the year 2020.     |\n",
      "|  44 |     remind - SSP2-NPi - 2025    |    Prospective db, based on REMIND, pathway SSP2-NPI, for the year 2025.     |\n",
      "|  45 |     remind - SSP2-NPi - 2030    |    Prospective db, based on REMIND, pathway SSP2-NPI, for the year 2030.     |\n",
      "|  46 |     remind - SSP2-NPi - 2035    |    Prospective db, based on REMIND, pathway SSP2-NPI, for the year 2035.     |\n",
      "|  47 |     remind - SSP2-NPi - 2040    |    Prospective db, based on REMIND, pathway SSP2-NPI, for the year 2040.     |\n",
      "|  48 |     remind - SSP2-NPi - 2045    |    Prospective db, based on REMIND, pathway SSP2-NPI, for the year 2045.     |\n",
      "|  49 |     remind - SSP2-NPi - 2050    |    Prospective db, based on REMIND, pathway SSP2-NPI, for the year 2050.     |\n",
      "|  50 |     remind - SSP2-NPi - 2055    |    Prospective db, based on REMIND, pathway SSP2-NPI, for the year 2055.     |\n",
      "|  51 |     remind - SSP2-NPi - 2060    |    Prospective db, based on REMIND, pathway SSP2-NPI, for the year 2060.     |\n",
      "|  52 |     remind - SSP2-NPi - 2065    |    Prospective db, based on REMIND, pathway SSP2-NPI, for the year 2065.     |\n",
      "|  53 |     remind - SSP2-NPi - 2070    |    Prospective db, based on REMIND, pathway SSP2-NPI, for the year 2070.     |\n",
      "|  54 |     remind - SSP2-NPi - 2075    |    Prospective db, based on REMIND, pathway SSP2-NPI, for the year 2075.     |\n",
      "|  55 |     remind - SSP2-NPi - 2080    |    Prospective db, based on REMIND, pathway SSP2-NPI, for the year 2080.     |\n",
      "|  56 |     remind - SSP2-NPi - 2085    |    Prospective db, based on REMIND, pathway SSP2-NPI, for the year 2085.     |\n",
      "|  57 |     remind - SSP2-NPi - 2090    |    Prospective db, based on REMIND, pathway SSP2-NPI, for the year 2090.     |\n",
      "|  58 |     remind - SSP2-NPi - 2095    |    Prospective db, based on REMIND, pathway SSP2-NPI, for the year 2095.     |\n",
      "|  59 |     remind - SSP2-NPi - 2100    |    Prospective db, based on REMIND, pathway SSP2-NPI, for the year 2100.     |\n",
      "|  60 | remind - SSP2-PkBudg1150 - 2005 | Prospective db, based on REMIND, pathway SSP2-PKBUDG1150, for the year 2005. |\n",
      "|  61 | remind - SSP2-PkBudg1150 - 2010 | Prospective db, based on REMIND, pathway SSP2-PKBUDG1150, for the year 2010. |\n",
      "|  62 | remind - SSP2-PkBudg1150 - 2015 | Prospective db, based on REMIND, pathway SSP2-PKBUDG1150, for the year 2015. |\n",
      "|  63 | remind - SSP2-PkBudg1150 - 2020 | Prospective db, based on REMIND, pathway SSP2-PKBUDG1150, for the year 2020. |\n",
      "|  64 | remind - SSP2-PkBudg1150 - 2025 | Prospective db, based on REMIND, pathway SSP2-PKBUDG1150, for the year 2025. |\n",
      "|  65 | remind - SSP2-PkBudg1150 - 2030 | Prospective db, based on REMIND, pathway SSP2-PKBUDG1150, for the year 2030. |\n",
      "|  66 | remind - SSP2-PkBudg1150 - 2035 | Prospective db, based on REMIND, pathway SSP2-PKBUDG1150, for the year 2035. |\n",
      "|  67 | remind - SSP2-PkBudg1150 - 2040 | Prospective db, based on REMIND, pathway SSP2-PKBUDG1150, for the year 2040. |\n",
      "|  68 | remind - SSP2-PkBudg1150 - 2045 | Prospective db, based on REMIND, pathway SSP2-PKBUDG1150, for the year 2045. |\n",
      "|  69 | remind - SSP2-PkBudg1150 - 2050 | Prospective db, based on REMIND, pathway SSP2-PKBUDG1150, for the year 2050. |\n",
      "|  70 | remind - SSP2-PkBudg1150 - 2055 | Prospective db, based on REMIND, pathway SSP2-PKBUDG1150, for the year 2055. |\n",
      "|  71 | remind - SSP2-PkBudg1150 - 2060 | Prospective db, based on REMIND, pathway SSP2-PKBUDG1150, for the year 2060. |\n",
      "|  72 | remind - SSP2-PkBudg1150 - 2065 | Prospective db, based on REMIND, pathway SSP2-PKBUDG1150, for the year 2065. |\n",
      "|  73 | remind - SSP2-PkBudg1150 - 2070 | Prospective db, based on REMIND, pathway SSP2-PKBUDG1150, for the year 2070. |\n",
      "|  74 | remind - SSP2-PkBudg1150 - 2075 | Prospective db, based on REMIND, pathway SSP2-PKBUDG1150, for the year 2075. |\n",
      "|  75 | remind - SSP2-PkBudg1150 - 2080 | Prospective db, based on REMIND, pathway SSP2-PKBUDG1150, for the year 2080. |\n",
      "|  76 | remind - SSP2-PkBudg1150 - 2085 | Prospective db, based on REMIND, pathway SSP2-PKBUDG1150, for the year 2085. |\n",
      "|  77 | remind - SSP2-PkBudg1150 - 2090 | Prospective db, based on REMIND, pathway SSP2-PKBUDG1150, for the year 2090. |\n",
      "|  78 | remind - SSP2-PkBudg1150 - 2095 | Prospective db, based on REMIND, pathway SSP2-PKBUDG1150, for the year 2095. |\n",
      "|  79 | remind - SSP2-PkBudg1150 - 2100 | Prospective db, based on REMIND, pathway SSP2-PKBUDG1150, for the year 2100. |\n",
      "|  80 |  remind - SSP2-PkBudg500 - 2005 | Prospective db, based on REMIND, pathway SSP2-PKBUDG500, for the year 2005.  |\n",
      "|  81 |  remind - SSP2-PkBudg500 - 2010 | Prospective db, based on REMIND, pathway SSP2-PKBUDG500, for the year 2010.  |\n",
      "|  82 |  remind - SSP2-PkBudg500 - 2015 | Prospective db, based on REMIND, pathway SSP2-PKBUDG500, for the year 2015.  |\n",
      "|  83 |  remind - SSP2-PkBudg500 - 2020 | Prospective db, based on REMIND, pathway SSP2-PKBUDG500, for the year 2020.  |\n",
      "|  84 |  remind - SSP2-PkBudg500 - 2025 | Prospective db, based on REMIND, pathway SSP2-PKBUDG500, for the year 2025.  |\n",
      "|  85 |  remind - SSP2-PkBudg500 - 2030 | Prospective db, based on REMIND, pathway SSP2-PKBUDG500, for the year 2030.  |\n",
      "|  86 |  remind - SSP2-PkBudg500 - 2035 | Prospective db, based on REMIND, pathway SSP2-PKBUDG500, for the year 2035.  |\n",
      "|  87 |  remind - SSP2-PkBudg500 - 2040 | Prospective db, based on REMIND, pathway SSP2-PKBUDG500, for the year 2040.  |\n",
      "|  88 |  remind - SSP2-PkBudg500 - 2045 | Prospective db, based on REMIND, pathway SSP2-PKBUDG500, for the year 2045.  |\n",
      "|  89 |  remind - SSP2-PkBudg500 - 2050 | Prospective db, based on REMIND, pathway SSP2-PKBUDG500, for the year 2050.  |\n",
      "|  90 |  remind - SSP2-PkBudg500 - 2055 | Prospective db, based on REMIND, pathway SSP2-PKBUDG500, for the year 2055.  |\n",
      "|  91 |  remind - SSP2-PkBudg500 - 2060 | Prospective db, based on REMIND, pathway SSP2-PKBUDG500, for the year 2060.  |\n",
      "|  92 |  remind - SSP2-PkBudg500 - 2065 | Prospective db, based on REMIND, pathway SSP2-PKBUDG500, for the year 2065.  |\n",
      "|  93 |  remind - SSP2-PkBudg500 - 2070 | Prospective db, based on REMIND, pathway SSP2-PKBUDG500, for the year 2070.  |\n",
      "|  94 |  remind - SSP2-PkBudg500 - 2075 | Prospective db, based on REMIND, pathway SSP2-PKBUDG500, for the year 2075.  |\n",
      "|  95 |  remind - SSP2-PkBudg500 - 2080 | Prospective db, based on REMIND, pathway SSP2-PKBUDG500, for the year 2080.  |\n",
      "|  96 |  remind - SSP2-PkBudg500 - 2085 | Prospective db, based on REMIND, pathway SSP2-PKBUDG500, for the year 2085.  |\n",
      "|  97 |  remind - SSP2-PkBudg500 - 2090 | Prospective db, based on REMIND, pathway SSP2-PKBUDG500, for the year 2090.  |\n",
      "|  98 |  remind - SSP2-PkBudg500 - 2095 | Prospective db, based on REMIND, pathway SSP2-PKBUDG500, for the year 2095.  |\n",
      "|  99 |  remind - SSP2-PkBudg500 - 2100 | Prospective db, based on REMIND, pathway SSP2-PKBUDG500, for the year 2100.  |\n",
      "+-----+---------------------------------+------------------------------------------------------------------------------+\n",
      "\n",
      "To unfold all scenarios, `unfold()`.\n",
      "To unfold a specific scenario, `unfold(scenarios=[1,])`.\n"
     ]
    }
   ],
   "source": [
    "from unfold import Unfold\n",
    "fp = \"/Users/romain/Downloads/premise_remind_ssp2_base.zip\"\n",
    "u = Unfold(fp)"
   ]
  }
 ],
 "metadata": {
  "kernelspec": {
   "display_name": "Python 3 (ipykernel)",
   "language": "python",
   "name": "python3"
  },
  "language_info": {
   "codemirror_mode": {
    "name": "ipython",
    "version": 3
   },
   "file_extension": ".py",
   "mimetype": "text/x-python",
   "name": "python",
   "nbconvert_exporter": "python",
   "pygments_lexer": "ipython3",
   "version": "3.10.8"
  }
 },
 "nbformat": 4,
 "nbformat_minor": 5
}
