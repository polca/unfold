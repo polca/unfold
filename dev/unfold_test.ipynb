{
 "cells": [
  {
   "cell_type": "code",
   "execution_count": 1,
   "id": "110c183e-cd91-4e4f-a33e-a74869962e1c",
   "metadata": {},
   "outputs": [],
   "source": [
    "from unfold import Unfold\n",
    "import bw2io, bw2data, bw2calc"
   ]
  },
  {
   "cell_type": "code",
   "execution_count": 2,
   "id": "d58c74dc-298e-4252-be87-12a5283021e0",
   "metadata": {},
   "outputs": [],
   "source": [
    "bw2data.projects.set_current(\"ei39\")"
   ]
  },
  {
   "cell_type": "code",
   "execution_count": 4,
   "id": "66f32ffa-2a97-4678-80f8-d1e91813958e",
   "metadata": {
    "tags": []
   },
   "outputs": [],
   "source": [
    "if \"remind SSP2-Base\" in bw2data.databases:\n",
    "    del bw2data.databases[\"remind SSP2-Base\"]"
   ]
  },
  {
   "cell_type": "code",
   "execution_count": 5,
   "id": "9f0708d7-2f03-40c4-926e-0220d537687a",
   "metadata": {},
   "outputs": [],
   "source": [
    "fp = \"/Users/romain/Library/Caches/ActivityBrowser/10012454.zip\""
   ]
  },
  {
   "cell_type": "code",
   "execution_count": 6,
   "id": "34537e4a-a4b7-484d-9261-719d3927ec80",
   "metadata": {},
   "outputs": [
    {
     "name": "stdout",
     "output_type": "stream",
     "text": [
      "The data package contains the following scenarios:\n",
      "+-----+---------------------------+------------------------------------------------------------------------------------------------+\n",
      "| No. |          Scenario         |                                          Description                                           |\n",
      "+-----+---------------------------+------------------------------------------------------------------------------------------------+\n",
      "|  0  | remind - SSP2-Base - 2020 | Prospective db, based on REMIND, pathway SSP2-BASE, for the year 2020, and external scenario . |\n",
      "|  1  | remind - SSP2-Base - 2025 | Prospective db, based on REMIND, pathway SSP2-BASE, for the year 2025, and external scenario . |\n",
      "|  2  | remind - SSP2-Base - 2030 | Prospective db, based on REMIND, pathway SSP2-BASE, for the year 2030, and external scenario . |\n",
      "|  3  | remind - SSP2-Base - 2035 | Prospective db, based on REMIND, pathway SSP2-BASE, for the year 2035, and external scenario . |\n",
      "|  4  | remind - SSP2-Base - 2040 | Prospective db, based on REMIND, pathway SSP2-BASE, for the year 2040, and external scenario . |\n",
      "|  5  | remind - SSP2-Base - 2045 | Prospective db, based on REMIND, pathway SSP2-BASE, for the year 2045, and external scenario . |\n",
      "|  6  | remind - SSP2-Base - 2050 | Prospective db, based on REMIND, pathway SSP2-BASE, for the year 2050, and external scenario . |\n",
      "|  7  | remind - SSP2-Base - 2060 | Prospective db, based on REMIND, pathway SSP2-BASE, for the year 2060, and external scenario . |\n",
      "|  8  | remind - SSP2-Base - 2070 | Prospective db, based on REMIND, pathway SSP2-BASE, for the year 2070, and external scenario . |\n",
      "|  9  | remind - SSP2-Base - 2080 | Prospective db, based on REMIND, pathway SSP2-BASE, for the year 2080, and external scenario . |\n",
      "|  10 | remind - SSP2-Base - 2090 | Prospective db, based on REMIND, pathway SSP2-BASE, for the year 2090, and external scenario . |\n",
      "|  11 | remind - SSP2-Base - 2100 | Prospective db, based on REMIND, pathway SSP2-BASE, for the year 2100, and external scenario . |\n",
      "+-----+---------------------------+------------------------------------------------------------------------------------------------+\n",
      "\n",
      "To unfold all scenarios, `unfold()`.\n",
      "To unfold a specific scenario, `unfold(scenarios=[1,])`.\n"
     ]
    }
   ],
   "source": [
    "u = Unfold(fp)"
   ]
  },
  {
   "cell_type": "code",
   "execution_count": 7,
   "id": "c24a2f2a-b502-4fb9-9db3-ad5769a55ea7",
   "metadata": {},
   "outputs": [
    {
     "name": "stdout",
     "output_type": "stream",
     "text": [
      "The following databases are necessary to unfold the scenarios:\n",
      "+-----+------------+--------------+---------+\n",
      "| No. | Dependency | System model | Version |\n",
      "+-----+------------+--------------+---------+\n",
      "|  1  | ecoinvent  |   cut-off    |   3.9   |\n",
      "|  2  | biosphere3 |              |         |\n",
      "+-----+------------+--------------+---------+\n",
      "\n",
      "The following databases are available in your project:\n",
      "+-----+------------------------------------------------------------------------------------+\n",
      "| No. |                                      Database                                      |\n",
      "+-----+------------------------------------------------------------------------------------+\n",
      "|  1  |                                     biosphere3                                     |\n",
      "|  2  |                               ecoinvent 3.9.1 cutoff                               |\n",
      "|  3  |                              ecoinvent EN15804 3.9.1                               |\n",
      "|  4  |                             remind - SSP2-Base - 2005                              |\n",
      "|  5  |                             remind - SSP2-Base - 2010                              |\n",
      "|  6  |                             remind - SSP2-Base - 2015                              |\n",
      "|  7  |                                 stationary battery                                 |\n",
      "|  8  |                                       test1                                        |\n",
      "|  9  |                                       test2                                        |\n",
      "|  10 |                                     test_super                                     |\n",
      "|  11 |                                        test                                        |\n",
      "|  12 |                                   PV 2050 - eff                                    |\n",
      "|  13 |                              PV 2050 - eff - lifetime                              |\n",
      "|  14 |                                    PV + storage                                    |\n",
      "|  15 |                           ecoinvent 3.9.1 consequential                            |\n",
      "|  16 |                 ecoinvent_consequential_3.9_remind_SSP1-Base_2050                  |\n",
      "|  17 |                 ecoinvent_consequential_3.9_remind_SSP2-Base_2050                  |\n",
      "|  18 |                  ecoinvent_consequential_3.9_remind_SSP2-NPi_2020                  |\n",
      "|  19 |                                   test_vanadium                                    |\n",
      "|  20 |                            vanadium-redox-flow-battery                             |\n",
      "|  21 |                                   test_storage1                                    |\n",
      "|  22 |                                   test_storage2                                    |\n",
      "|  23 |                                     test_tiam                                      |\n",
      "|  24 |                              image - SSP2-Base - 2020                              |\n",
      "|  25 | image - SSP2-Base - 2020 - energy-perspective-2050-switzerland - Business As Usual |\n",
      "|  26 | image - SSP2-Base - 2050 - energy-perspective-2050-switzerland - Business As Usual |\n",
      "|  27 |    image - SSP2-RCP26 - 2050 - energy-perspective-2050-switzerland - ZERO Basis    |\n",
      "|  28 |                        energy-perspective-2050-switzerland                         |\n",
      "|  29 |                              cobalt-perspective-2050                               |\n",
      "|  30 |                           ammonia-prospective-scenarios                            |\n",
      "|  31 |                                      PV 2035                                       |\n",
      "|  32 |                                      PV 2050                                       |\n",
      "|  33 |                                        elec                                        |\n",
      "|  34 |                                    elec + steel                                    |\n",
      "|  35 |                               elec + steel + cement                                |\n",
      "|  36 |                                     bread 2030                                     |\n",
      "|  37 |                                     bread 2050                                     |\n",
      "|  38 |                                     BAU - 2035                                     |\n",
      "|  39 |                                     BAU - 2050                                     |\n",
      "|  40 |                                     CA - 2035                                      |\n",
      "|  41 |                                     CA - 2050                                      |\n",
      "|  42 |                              remind - SSP2-NDC - 2030                              |\n",
      "|  43 |                              remind - SSP2-NDC - 2080                              |\n",
      "|  44 |                                super_db_2023-10-10                                 |\n",
      "|  45 |                     ecoinvent_cutoff_3.9_image_SSP2-Base_2050                      |\n",
      "|  46 |                  ecoinvent_cutoff_3.9_remind_SSP2-PkBudg500_2050                   |\n",
      "|  47 |                     ecoinvent_cutoff_3.9_remind_SSP2-Base_2030                     |\n",
      "|  48 |                     ecoinvent_cutoff_3.9_remind_SSP2-Base_2050                     |\n",
      "|  49 |                  ecoinvent_cutoff_3.9_remind_SSP2-PkBudg500_2030                   |\n",
      "|  50 |                             remind - SSP2-Base - 2020                              |\n",
      "|  51 |                             remind - SSP2-Base - 2050                              |\n",
      "|  52 |                                      SP test                                       |\n",
      "|  53 |                               ei39-remind-SSP2-test                                |\n",
      "|  54 |                                  ei39-remind-SSP2                                  |\n",
      "|  55 |                                       test3                                        |\n",
      "|  56 |                                       test4                                        |\n",
      "|  57 |                                       test5                                        |\n",
      "|  58 |                                       test6                                        |\n",
      "|  59 |                                       test7                                        |\n",
      "|  60 |                                       test8                                        |\n",
      "|  61 |                                       test9                                        |\n",
      "|  62 |                                       test10                                       |\n",
      "|  63 |                                       test13                                       |\n",
      "|  64 |                                       test14                                       |\n",
      "|  65 |                                       test15                                       |\n",
      "|  66 |                                       test16                                       |\n",
      "|  67 |                                       test17                                       |\n",
      "|  68 |                                       test18                                       |\n",
      "|  69 |                                      SDF test                                      |\n",
      "|  70 |                                     SP remind                                      |\n",
      "|  71 |                                  SP test rebecca                                   |\n",
      "|  72 |                                     test ulla                                      |\n",
      "|  73 |                                    Power-2-heat                                    |\n",
      "+-----+------------------------------------------------------------------------------------+\n",
      "\n"
     ]
    },
    {
     "name": "stdin",
     "output_type": "stream",
     "text": [
      "Indicate the database number for dependency 1:  2\n",
      "Indicate the database number for dependency 2:  1\n"
     ]
    },
    {
     "name": "stdout",
     "output_type": "stream",
     "text": [
      "Extracting additional inventories...\n",
      "Writing scenario difference file...\n",
      "Generating superstructure database...\n",
      "Scenario difference file exported to /Users/romain/GitHub/unfold/dev/SDF ecoinvent 3.9 remind SSP2-Base.csv\n",
      "\n",
      "Writing superstructure database...\n"
     ]
    },
    {
     "name": "stderr",
     "output_type": "stream",
     "text": [
      "Writing activities to SQLite3 database:\n",
      "0% [##############################] 100% | ETA: 00:00:00\n",
      "Total time elapsed: 00:00:30\n"
     ]
    },
    {
     "name": "stdout",
     "output_type": "stream",
     "text": [
      "Title: Writing activities to SQLite3 database:\n",
      "  Started: 10/27/2023 19:37:21\n",
      "  Finished: 10/27/2023 19:37:52\n",
      "  Total time elapsed: 00:00:30\n",
      "  CPU %: 96.00\n",
      "  Memory %: 14.23\n",
      "Created database: remind SSP2-Base\n"
     ]
    }
   ],
   "source": [
    "u.unfold(scenarios=[0, 1], superstructure=True)"
   ]
  },
  {
   "cell_type": "code",
   "execution_count": 6,
   "id": "832ab828-ab11-4698-b1b3-e3a5f1391a11",
   "metadata": {},
   "outputs": [],
   "source": [
    "df_gr = (\n",
    "    u.scenario_df.groupby(\"to activity name\")\n",
    "    .sum(numeric_only=True)\n",
    "    .loc[:, :]\n",
    ")"
   ]
  },
  {
   "cell_type": "code",
   "execution_count": 7,
   "id": "083c05c7-e186-4e07-9dbe-de41c0efbd98",
   "metadata": {},
   "outputs": [
    {
     "data": {
      "text/html": [
       "<div>\n",
       "<style scoped>\n",
       "    .dataframe tbody tr th:only-of-type {\n",
       "        vertical-align: middle;\n",
       "    }\n",
       "\n",
       "    .dataframe tbody tr th {\n",
       "        vertical-align: top;\n",
       "    }\n",
       "\n",
       "    .dataframe thead th {\n",
       "        text-align: right;\n",
       "    }\n",
       "</style>\n",
       "<table border=\"1\" class=\"dataframe\">\n",
       "  <thead>\n",
       "    <tr style=\"text-align: right;\">\n",
       "      <th></th>\n",
       "      <th>remind - SSP2-Base - 2005</th>\n",
       "      <th>remind - SSP2-Base - 2010</th>\n",
       "    </tr>\n",
       "    <tr>\n",
       "      <th>to activity name</th>\n",
       "      <th></th>\n",
       "      <th></th>\n",
       "    </tr>\n",
       "  </thead>\n",
       "  <tbody>\n",
       "    <tr>\n",
       "      <th>1,1-difluoroethane production, HFC-152a</th>\n",
       "      <td>2.177800</td>\n",
       "      <td>2.177800</td>\n",
       "    </tr>\n",
       "    <tr>\n",
       "      <th>1-methoxy-2-propanol production</th>\n",
       "      <td>0.399060</td>\n",
       "      <td>0.399060</td>\n",
       "    </tr>\n",
       "    <tr>\n",
       "      <th>1-methylcyclopropene production</th>\n",
       "      <td>0.398523</td>\n",
       "      <td>0.398523</td>\n",
       "    </tr>\n",
       "    <tr>\n",
       "      <th>1-naphthylacetic acid production</th>\n",
       "      <td>0.399060</td>\n",
       "      <td>0.399060</td>\n",
       "    </tr>\n",
       "    <tr>\n",
       "      <th>1-propanol production</th>\n",
       "      <td>1.259167</td>\n",
       "      <td>1.259167</td>\n",
       "    </tr>\n",
       "    <tr>\n",
       "      <th>...</th>\n",
       "      <td>...</td>\n",
       "      <td>...</td>\n",
       "    </tr>\n",
       "    <tr>\n",
       "      <th>zineb production</th>\n",
       "      <td>0.770186</td>\n",
       "      <td>0.770186</td>\n",
       "    </tr>\n",
       "    <tr>\n",
       "      <th>zirconium and hafnium tetrachloride production, from zircon</th>\n",
       "      <td>6.385121</td>\n",
       "      <td>6.385121</td>\n",
       "    </tr>\n",
       "    <tr>\n",
       "      <th>zirconium oxide production</th>\n",
       "      <td>0.082600</td>\n",
       "      <td>0.082600</td>\n",
       "    </tr>\n",
       "    <tr>\n",
       "      <th>zirconium sponge production, from zirconium tetrachloride</th>\n",
       "      <td>14.550000</td>\n",
       "      <td>14.550000</td>\n",
       "    </tr>\n",
       "    <tr>\n",
       "      <th>zucchini production</th>\n",
       "      <td>0.005250</td>\n",
       "      <td>0.005250</td>\n",
       "    </tr>\n",
       "  </tbody>\n",
       "</table>\n",
       "<p>3034 rows × 2 columns</p>\n",
       "</div>"
      ],
      "text/plain": [
       "                                                    remind - SSP2-Base - 2005  \\\n",
       "to activity name                                                                \n",
       "1,1-difluoroethane production, HFC-152a                              2.177800   \n",
       "1-methoxy-2-propanol production                                      0.399060   \n",
       "1-methylcyclopropene production                                      0.398523   \n",
       "1-naphthylacetic acid production                                     0.399060   \n",
       "1-propanol production                                                1.259167   \n",
       "...                                                                       ...   \n",
       "zineb production                                                     0.770186   \n",
       "zirconium and hafnium tetrachloride production,...                   6.385121   \n",
       "zirconium oxide production                                           0.082600   \n",
       "zirconium sponge production, from zirconium tet...                  14.550000   \n",
       "zucchini production                                                  0.005250   \n",
       "\n",
       "                                                    remind - SSP2-Base - 2010  \n",
       "to activity name                                                               \n",
       "1,1-difluoroethane production, HFC-152a                              2.177800  \n",
       "1-methoxy-2-propanol production                                      0.399060  \n",
       "1-methylcyclopropene production                                      0.398523  \n",
       "1-naphthylacetic acid production                                     0.399060  \n",
       "1-propanol production                                                1.259167  \n",
       "...                                                                       ...  \n",
       "zineb production                                                     0.770186  \n",
       "zirconium and hafnium tetrachloride production,...                   6.385121  \n",
       "zirconium oxide production                                           0.082600  \n",
       "zirconium sponge production, from zirconium tet...                  14.550000  \n",
       "zucchini production                                                  0.005250  \n",
       "\n",
       "[3034 rows x 2 columns]"
      ]
     },
     "execution_count": 7,
     "metadata": {},
     "output_type": "execute_result"
    }
   ],
   "source": [
    "df_gr"
   ]
  },
  {
   "cell_type": "code",
   "execution_count": 16,
   "id": "b6ce3c8b-8b64-4c97-abc8-5182c84a5838",
   "metadata": {},
   "outputs": [
    {
     "data": {
      "text/plain": [
       "['remind - SSP2-Base - 2010']"
      ]
     },
     "execution_count": 16,
     "metadata": {},
     "output_type": "execute_result"
    }
   ],
   "source": [
    "[c for c in df_gr.columns if c != \"remind - SSP2-Base - 2005\"]"
   ]
  },
  {
   "cell_type": "code",
   "execution_count": 19,
   "id": "e9401c5d-acf7-4a39-9de9-da0d2cc92350",
   "metadata": {},
   "outputs": [
    {
     "data": {
      "text/html": [
       "<div>\n",
       "<style scoped>\n",
       "    .dataframe tbody tr th:only-of-type {\n",
       "        vertical-align: middle;\n",
       "    }\n",
       "\n",
       "    .dataframe tbody tr th {\n",
       "        vertical-align: top;\n",
       "    }\n",
       "\n",
       "    .dataframe thead th {\n",
       "        text-align: right;\n",
       "    }\n",
       "</style>\n",
       "<table border=\"1\" class=\"dataframe\">\n",
       "  <thead>\n",
       "    <tr style=\"text-align: right;\">\n",
       "      <th></th>\n",
       "      <th>remind - SSP2-Base - 2005</th>\n",
       "      <th>remind - SSP2-Base - 2010</th>\n",
       "    </tr>\n",
       "    <tr>\n",
       "      <th>to activity name</th>\n",
       "      <th></th>\n",
       "      <th></th>\n",
       "    </tr>\n",
       "  </thead>\n",
       "  <tbody>\n",
       "  </tbody>\n",
       "</table>\n",
       "</div>"
      ],
      "text/plain": [
       "Empty DataFrame\n",
       "Columns: [remind - SSP2-Base - 2005, remind - SSP2-Base - 2010]\n",
       "Index: []"
      ]
     },
     "execution_count": 19,
     "metadata": {},
     "output_type": "execute_result"
    }
   ],
   "source": [
    "df_gr.loc[\n",
    "    (df_gr[\"remind - SSP2-Base - 2005\"] == 0)\n",
    "    &(df_gr.sum(1) != 0), :\n",
    "]"
   ]
  },
  {
   "cell_type": "code",
   "execution_count": 10,
   "id": "84fbfd04-b697-4ee4-86da-bcdb348e55bf",
   "metadata": {},
   "outputs": [
    {
     "name": "stdout",
     "output_type": "stream",
     "text": [
      "Ethanol production, via fermentation, from miscanthus, economic allocation\n",
      "Ethanol production, via fermentation, from miscanthus, energy allocation\n",
      "Ethanol production, via fermentation, from miscanthus, system expansion\n",
      "Ethanol production, via fermentation, from miscanthus, with carbon capture and storage, economic allocation\n",
      "Ethanol production, via fermentation, from miscanthus, with carbon capture and storage, energy allocation\n",
      "Ethanol production, via fermentation, from miscanthus, with carbon capture and storage, system expansion\n"
     ]
    }
   ],
   "source": [
    "for ds in u.database:\n",
    "    if \"Ethanol production, via fermentation, from misc\" in ds[\"name\"]:\n",
    "        print(ds[\"name\"])"
   ]
  },
  {
   "cell_type": "code",
   "execution_count": 8,
   "id": "7f303442-297b-4a76-8a7a-538830bf9f7d",
   "metadata": {},
   "outputs": [
    {
     "name": "stdout",
     "output_type": "stream",
     "text": [
      "Ethanol production, via fermentation, from corn, with carbon capture and reuse, system expansion\n",
      "Ethanol production, via fermentation, from sugarcane, economic allocation\n",
      "Ethanol production, via fermentation, from grain sorghum, system expansion\n",
      "Ethanol production, via fermentation, from corn starch, energy allocation\n",
      "Ethanol production, via fermentation, from sugarcane, with carbon capture and storage, system expansion\n",
      "Ethanol production, via fermentation, from corn stover, economic allocation\n",
      "Ethanol production, via fermentation, from sugarbeet, with carbon capture and storage, energy allocation\n",
      "Ethanol production, via fermentation, from sweet sorghum, economic allocation\n",
      "Ethanol production, via fermentation, from switchgrass, economic allocation\n",
      "Ethanol production, via fermentation, from forest residue, energy allocation\n",
      "Ethanol production, via fermentation, from sugarcane, with carbon capture and storage, energy allocation\n",
      "Ethanol production, via fermentation, from poplar, economic allocation\n",
      "Ethanol production, via fermentation, from miscanthus, with carbon capture and storage, economic allocation\n",
      "Ethanol production, via fermentation, from switchgrass, energy allocation\n",
      "Ethanol production, via fermentation, from grain sorghum, economic allocation\n",
      "Ethanol production, via fermentation, from willow, economic allocation\n",
      "Ethanol production, via fermentation, from sugarcane straw, energy allocation\n",
      "Ethanol production, via fermentation, from miscanthus, energy allocation\n",
      "Ethanol production, via fermentation, from switchgrass, with carbon capture and storage, system expansion\n",
      "Ethanol production, via fermentation, from forest residue, system expansion\n",
      "Ethanol production, via fermentation, from forest residue, energy allocation\n",
      "Ethanol production, via fermentation, from grain sorghum, energy allocation\n",
      "Ethanol production, via fermentation, from willow, energy allocation\n",
      "Ethanol production, via fermentation, from sugarbeet, energy allocation\n",
      "Ethanol production, via fermentation, from sugarcane, with carbon capture and storage, economic allocation\n",
      "Ethanol production, via fermentation, from switchgrass, with carbon capture and storage, energy allocation\n",
      "Ethanol production, via fermentation, from switchgrass, with carbon capture and storage, economic allocation\n",
      "Ethanol production, via fermentation, from sweet sorghum, energy allocation\n",
      "Ethanol production, via fermentation, from wheat straw, energy allocation\n",
      "Ethanol production, via fermentation, from forest residue, with carbon capture and storage, energy allocation\n",
      "Ethanol production, via fermentation, from corn, with carbon capture and storage, energy allocation\n",
      "Ethanol production, via fermentation, from miscanthus, with carbon capture and storage, energy allocation\n",
      "Ethanol production, via fermentation, from forage sorghum, energy allocation\n",
      "Ethanol production, via fermentation, from eucalyptus, with carbon capture and storage\n",
      "Ethanol production, via fermentation, from miscanthus, with carbon capture and storage, system expansion\n",
      "Ethanol production, via fermentation, from poplar, with carbon capture and storage, energy allocation\n",
      "Ethanol production, via fermentation, from forage sorghum, economic allocation\n",
      "Ethanol production, via fermentation, from corn, energy allocation\n",
      "Ethanol production, via fermentation, from corn, economic allocation\n",
      "Ethanol production, via fermentation, from corn, with carbon capture and reuse, economic allocation\n",
      "Ethanol production, via fermentation, from sugarcane, energy allocation\n",
      "Ethanol production, via fermentation, from eucalyptus\n",
      "Ethanol production, via fermentation, from corn, with carbon capture and reuse, energy allocation\n",
      "Ethanol production, via fermentation, from corn, system expansion\n",
      "Ethanol production, via fermentation, from sugarcane, economic allocation\n",
      "Ethanol production, via fermentation, from forest residue, economic allocation\n",
      "Ethanol production, via fermentation, from sugarcane, energy allocation\n",
      "Ethanol production, via fermentation, from corn, with carbon capture and storage, system expansion\n",
      "Ethanol production, via fermentation, from sugarcane straw, economic allocation\n",
      "Ethanol production, via fermentation, from poplar, energy allocation\n",
      "Ethanol production, via fermentation, from wheat grains, energy allocation\n",
      "Ethanol production, via fermentation, from corn stover, energy allocation\n",
      "Ethanol production, via fermentation, from corn, with carbon capture and storage, economic allocation\n",
      "Ethanol production, via fermentation, from miscanthus, economic allocation\n"
     ]
    }
   ],
   "source": [
    "for ds in u.databases_to_export[\"remind - SSP2-Base - 2005\"]:\n",
    "    if \"Ethanol production, via fermentation, \" in ds[\"name\"]:\n",
    "        print(ds[\"name\"])"
   ]
  },
  {
   "cell_type": "code",
   "execution_count": 8,
   "id": "b0cc28f9-77d8-4977-a5f2-7352955ab075",
   "metadata": {},
   "outputs": [
    {
     "name": "stdout",
     "output_type": "stream",
     "text": [
      "('Particulate Matter, < 2.5 um', None, None, ('air', 'low population density, long-term'))\n",
      "('Particulate Matter, > 10 um', None, None, ('air', 'urban air close to ground'))\n",
      "('Particulate Matter, < 2.5 um', None, None, ('air',))\n",
      "('Particulate Matter, < 2.5 um', None, None, ('air', 'urban air close to ground'))\n",
      "('Particulate Matter, > 2.5 um and < 10um', None, None, ('air', 'non-urban air or from high stacks'))\n",
      "('Particulate Matter, > 2.5 um and < 10um', None, None, ('air', 'low population density, long-term'))\n",
      "('Particulate Matter, > 2.5 um and < 10um', None, None, ('air', 'lower stratosphere + upper troposphere'))\n",
      "('Particulate Matter, > 10 um', None, None, ('air',))\n",
      "('Particulate Matter, < 2.5 um', None, None, ('air', 'non-urban air or from high stacks'))\n",
      "('Particulate Matter, > 10 um', None, None, ('air', 'non-urban air or from high stacks'))\n",
      "('Particulate Matter, > 10 um', None, None, ('air', 'low population density, long-term'))\n",
      "('Particulate Matter, > 2.5 um and < 10um', None, None, ('air',))\n",
      "('Particulate Matter, > 2.5 um and < 10um', None, None, ('air', 'urban air close to ground'))\n",
      "('Particulate Matter, < 2.5 um', None, None, ('air', 'lower stratosphere + upper troposphere'))\n",
      "('Particulate Matter, > 10 um', None, None, ('air', 'lower stratosphere + upper troposphere'))\n"
     ]
    }
   ],
   "source": [
    "for i, j in u.dependency_mapping.items():\n",
    "    if j[0] == \"biosphere3\" and i[0].startswith(\"Particulate\"):\n",
    "        print(i)"
   ]
  },
  {
   "cell_type": "code",
   "execution_count": 6,
   "id": "490dc194-20db-4686-9db6-b0efae60c3c7",
   "metadata": {},
   "outputs": [],
   "source": [
    "from unfold import Fold\n",
    "import bw2io, bw2data"
   ]
  },
  {
   "cell_type": "code",
   "execution_count": 7,
   "id": "b17e26e2-2402-40b8-9ef1-22f9d15b24dc",
   "metadata": {},
   "outputs": [],
   "source": [
    "bw2data.projects.set_current(\"ei39\")\n",
    "f = Fold()"
   ]
  },
  {
   "cell_type": "code",
   "execution_count": 8,
   "id": "38409dc7-b1dc-4267-8418-51a717593bbb",
   "metadata": {},
   "outputs": [
    {
     "name": "stdin",
     "output_type": "stream",
     "text": [
      "Give a name for this datapackage:  test\n",
      "Give a short description for this datapackage:  test\n"
     ]
    },
    {
     "name": "stdout",
     "output_type": "stream",
     "text": [
      "The following databases are available in your project:\n",
      "+-----+--------------------------------------------------+\n",
      "| No. |                     Database                     |\n",
      "+-----+--------------------------------------------------+\n",
      "|  1  |                    biosphere3                    |\n",
      "|  2  |               ecoinvent 3.9 cutoff               |\n",
      "|  3  |             ESA LCA External 1.1.8a              |\n",
      "|  4  |           ecoinvent 3.9 consequential            |\n",
      "|  5  |      ecoinvent_cutoff_remind_SSP1-Base_2005      |\n",
      "|  6  |      ecoinvent_cutoff_image_SSP2-Base_2100       |\n",
      "|  7  |      ecoinvent_cutoff_remind_SSP5-Base_2050      |\n",
      "|  8  |    ecoinvent_cutoff_3.9_remind_SSP1-Base_2005    |\n",
      "|  9  |    ecoinvent_cutoff_3.9_image_SSP2-Base_2100     |\n",
      "|  10 |    ecoinvent_cutoff_3.9_remind_SSP5-Base_2050    |\n",
      "|  11 |                      test1                       |\n",
      "|  12 |                      test2                       |\n",
      "|  13 |              ecoinvent 3.9.1 cutoff              |\n",
      "|  14 |          ecoinvent 3.9.1 consequential           |\n",
      "|  15 |                    test_super                    |\n",
      "|  16 |                      brian                       |\n",
      "|  17 |                     RTE_2020                     |\n",
      "|  18 |                     RTE_2030                     |\n",
      "|  19 |                     RTE_2040                     |\n",
      "|  20 |                     RTE_2050                     |\n",
      "|  21 |                     RTE_2060                     |\n",
      "|  22 |                   RTE_2020_M0                    |\n",
      "|  23 |                   RTE_2025_M0                    |\n",
      "|  24 |                   RTE_2030_M0                    |\n",
      "|  25 |                   RTE_2035_M0                    |\n",
      "|  26 |                   RTE_2040_M0                    |\n",
      "|  27 |                   RTE_2045_M0                    |\n",
      "|  28 |                   RTE_2050_M0                    |\n",
      "|  29 |                   RTE_2055_M0                    |\n",
      "|  30 |                   RTE_2060_M0                    |\n",
      "|  31 |               RTE_2020_sobriety_N3               |\n",
      "|  32 |               RTE_2025_sobriety_N3               |\n",
      "|  33 |               RTE_2030_sobriety_N3               |\n",
      "|  34 |               RTE_2035_sobriety_N3               |\n",
      "|  35 |               RTE_2040_sobriety_N3               |\n",
      "|  36 |               RTE_2045_sobriety_N3               |\n",
      "|  37 |               RTE_2050_sobriety_N3               |\n",
      "|  38 |               RTE_2055_sobriety_N3               |\n",
      "|  39 |               RTE_2060_sobriety_N3               |\n",
      "|  40 |                 RTE_2020_ext_N1                  |\n",
      "|  41 |                 RTE_2025_ext_N1                  |\n",
      "|  42 |                 RTE_2030_ext_N1                  |\n",
      "|  43 |                 RTE_2035_ext_N1                  |\n",
      "|  44 |                 RTE_2040_ext_N1                  |\n",
      "|  45 |                 RTE_2045_ext_N1                  |\n",
      "|  46 |                 RTE_2050_ext_N1                  |\n",
      "|  47 |                 RTE_2055_ext_N1                  |\n",
      "|  48 |                 RTE_2060_ext_N1                  |\n",
      "|  49 |    ecoinvent_cutoff_3.9_remind_SSP2-NPi_2030     |\n",
      "|  50 |    ecoinvent_cutoff_3.9_remind_SSP2-NPi_2040     |\n",
      "|  51 |    ecoinvent_cutoff_3.9_remind_SSP2-NPi_2050     |\n",
      "|  52 | ecoinvent_cutoff_3.9_remind_SSP2-PkBudg1150_2030 |\n",
      "|  53 | ecoinvent_cutoff_3.9_remind_SSP2-PkBudg1150_2040 |\n",
      "|  54 | ecoinvent_cutoff_3.9_remind_SSP2-PkBudg1150_2050 |\n",
      "|  55 | ecoinvent_cutoff_3.9_remind_SSP2-PkBudg500_2030  |\n",
      "|  56 | ecoinvent_cutoff_3.9_remind_SSP2-PkBudg500_2040  |\n",
      "|  57 | ecoinvent_cutoff_3.9_remind_SSP2-PkBudg500_2050  |\n",
      "|  58 |                 trucks_bw_ei_39                  |\n",
      "|  59 |            remind - SSP2-Base - 2005             |\n",
      "|  60 |            remind - SSP2-Base - 2010             |\n",
      "+-----+--------------------------------------------------+\n",
      "\n"
     ]
    },
    {
     "name": "stdin",
     "output_type": "stream",
     "text": [
      "Indicate the no. of the reference database:  2\n",
      "Indicate the system model of ecoinvent 3.9 cutoff:  cutoff\n",
      "Indicate the version of ecoinvent 3.9 cutoff:  3.9\n",
      "Indicate the no. of the databases you would like to fold, separated by a comma:  54, 55\n",
      "Give a short description for ecoinvent_cutoff_3.9_remind_SSP2-PkBudg1150_2050:  remind\n",
      "Give a short description for ecoinvent_cutoff_3.9_remind_SSP2-PkBudg500_2030:  image\n"
     ]
    },
    {
     "name": "stdout",
     "output_type": "stream",
     "text": [
      "Extracting source database...\n",
      "Done!\n",
      "Extracting databases to fold...\n",
      "Done!\n",
      "\n",
      "The database biosphere3 is an external dependency. It will be extracted automatically.\n",
      "Building scenario factor file...\n",
      "Data package saved at test.zip\n"
     ]
    }
   ],
   "source": [
    "m = f.fold()"
   ]
  },
  {
   "cell_type": "code",
   "execution_count": null,
   "id": "2aa7f1d0-c666-4a28-815c-f75f2d42bb85",
   "metadata": {},
   "outputs": [],
   "source": [
    "f = Fold()\n",
    "\n",
    "f.fold(\n",
    "    package_name=\"Test_package\",\n",
    "    package_description=\"some description\",\n",
    "    source=\"ecoinvent 3.8 cutoff\",\n",
    "    system_model=\"cut off\",\n",
    "    version=\"3.8\",\n",
    "    databases_to_fold=[\"amelie_1\",\"amelie_2\"],\n",
    "    descriptions=[\"a database from my thesis\", \"another database from my thesis\"],\n",
    ")"
   ]
  },
  {
   "cell_type": "code",
   "execution_count": null,
   "id": "ab8307d1-7fc2-4065-b2c8-9ca3bdaeca6e",
   "metadata": {},
   "outputs": [],
   "source": [
    "for ds in f.source[\"database\"]:\n",
    "    if \"reference product\" not in ds:\n",
    "        print(ds[\"name\"])"
   ]
  },
  {
   "cell_type": "code",
   "execution_count": null,
   "id": "0c13e7d1-457c-4967-a0c7-fad3630a585a",
   "metadata": {},
   "outputs": [],
   "source": [
    "check_mandatory_fields(f.source[\"database\"])"
   ]
  },
  {
   "cell_type": "code",
   "execution_count": null,
   "id": "c52ea820-c63b-4c40-b73b-009e5024e336",
   "metadata": {},
   "outputs": [],
   "source": [
    "list_unique_acts = []\n",
    "for ds in f.source[\"database\"]:\n",
    "    list_unique_acts.extend([\n",
    "        (\n",
    "            f.rev_dependency_mapping.get(exchange.get(\"input\"), (None,))[0],\n",
    "            f.rev_dependency_mapping.get(exchange.get(\"input\"), (None, None))[1],\n",
    "            f.rev_dependency_mapping.get(exchange.get(\"input\"), (None,))[-1],\n",
    "            f.rev_dependency_mapping.get(exchange.get(\"input\"), (None, None, None))[2],\n",
    "            exchange[\"unit\"],\n",
    "            exchange[\"type\"],\n",
    "        )\n",
    "        for exchange in ds[\"exchanges\"]\n",
    "    ])"
   ]
  },
  {
   "cell_type": "code",
   "execution_count": null,
   "id": "0132d952-e8b5-42b6-99d3-5b4d7170fe1a",
   "metadata": {},
   "outputs": [],
   "source": [
    "f.source[\"database\"][0][\"exchanges\"][0][\"input\"]"
   ]
  },
  {
   "cell_type": "code",
   "execution_count": null,
   "id": "514801d5-373b-40af-b78e-2a7a30b287b7",
   "metadata": {},
   "outputs": [],
   "source": []
  },
  {
   "cell_type": "code",
   "execution_count": null,
   "id": "bdac3bbf-5b30-4d70-b123-550ea0c21de7",
   "metadata": {},
   "outputs": [],
   "source": []
  },
  {
   "cell_type": "code",
   "execution_count": 1,
   "id": "b5089d5f-71b2-48d8-b371-1db068978c26",
   "metadata": {},
   "outputs": [],
   "source": [
    "import brightway2 as bw\n",
    "bw.projects.set_current(\"new4\")"
   ]
  },
  {
   "cell_type": "code",
   "execution_count": 28,
   "id": "c89454e2-599e-43b7-9d1e-5db423774ae9",
   "metadata": {},
   "outputs": [],
   "source": [
    "import yaml\n",
    "\n",
    "fp = \"/Users/romain/GitHub/unfold/tests/fixture/reference_database.yaml\"\n",
    "with open(fp, \"r\") as stream:\n",
    "    db = yaml.load(stream, Loader=yaml.FullLoader)\n",
    "    \n",
    "fp = \"/Users/romain/GitHub/unfold/tests/fixture/db A.yaml\"\n",
    "\n",
    "with open(fp, \"r\") as stream:\n",
    "    db_a = yaml.load(stream, Loader=yaml.FullLoader)\n",
    "    \n",
    "fp = \"/Users/romain/GitHub/unfold/tests/fixture/db B.yaml\"\n",
    "\n",
    "with open(fp, \"r\") as stream:\n",
    "    db_b = yaml.load(stream, Loader=yaml.FullLoader)"
   ]
  },
  {
   "cell_type": "code",
   "execution_count": 29,
   "id": "5c5e5433-e1f1-4faf-8659-b48bd19e8640",
   "metadata": {},
   "outputs": [
    {
     "name": "stderr",
     "output_type": "stream",
     "text": [
      "Writing activities to SQLite3 database:\n",
      "0% [####] 100% | ETA: 00:00:00\n",
      "Total time elapsed: 00:00:00\n",
      "Writing activities to SQLite3 database:\n"
     ]
    },
    {
     "name": "stdout",
     "output_type": "stream",
     "text": [
      "Title: Writing activities to SQLite3 database:\n",
      "  Started: 03/14/2023 17:10:14\n",
      "  Finished: 03/14/2023 17:10:14\n",
      "  Total time elapsed: 00:00:00\n",
      "  CPU %: 114.10\n",
      "  Memory %: 2.24\n"
     ]
    },
    {
     "name": "stderr",
     "output_type": "stream",
     "text": [
      "0% [####] 100% | ETA: 00:00:00\n",
      "Total time elapsed: 00:00:00\n"
     ]
    },
    {
     "name": "stdout",
     "output_type": "stream",
     "text": [
      "Title: Writing activities to SQLite3 database:\n",
      "  Started: 03/14/2023 17:10:14\n",
      "  Finished: 03/14/2023 17:10:14\n",
      "  Total time elapsed: 00:00:00\n",
      "  CPU %: 115.80\n",
      "  Memory %: 2.29\n"
     ]
    },
    {
     "name": "stderr",
     "output_type": "stream",
     "text": [
      "Writing activities to SQLite3 database:\n",
      "0% [####] 100% | ETA: 00:00:00\n",
      "Total time elapsed: 00:00:00\n"
     ]
    },
    {
     "name": "stdout",
     "output_type": "stream",
     "text": [
      "Title: Writing activities to SQLite3 database:\n",
      "  Started: 03/14/2023 17:10:15\n",
      "  Finished: 03/14/2023 17:10:15\n",
      "  Total time elapsed: 00:00:00\n",
      "  CPU %: 101.30\n",
      "  Memory %: 2.33\n"
     ]
    }
   ],
   "source": [
    "bw.Database(\"reference_database\").write(db)\n",
    "bw.Database(\"db A\").write(db_a)\n",
    "bw.Database(\"db B\").write(db_b)"
   ]
  },
  {
   "cell_type": "code",
   "execution_count": 34,
   "id": "1cd405d5-8c49-4579-b646-5540415017ae",
   "metadata": {},
   "outputs": [
    {
     "data": {
      "text/plain": [
       "array([ 1.        ,  6.18367386, 12.11224588,  0.        ])"
      ]
     },
     "execution_count": 34,
     "metadata": {},
     "output_type": "execute_result"
    }
   ],
   "source": [
    "lca = bw.LCA({bw.get_activity((\"reference_database\", \"activity A\")): 1})\n",
    "lca.lci()\n",
    "lca.supply_array"
   ]
  },
  {
   "cell_type": "code",
   "execution_count": 35,
   "id": "24a76e16-bbb3-475a-b22a-17e861babce9",
   "metadata": {},
   "outputs": [
    {
     "name": "stderr",
     "output_type": "stream",
     "text": [
      "/opt/homebrew/Caskroom/miniforge/base/envs/unfold/lib/python3.10/site-packages/bw2calc/lca.py:228: UserWarning: No biosphere flows found. No inventory results can be calculated, `lcia` will raise an error\n",
      "  warnings.warn(\"No biosphere flows found. No inventory results can \"\n"
     ]
    },
    {
     "data": {
      "text/plain": [
       "array([ 1.        , 10.62500066, 19.56250163,  0.        ])"
      ]
     },
     "execution_count": 35,
     "metadata": {},
     "output_type": "execute_result"
    }
   ],
   "source": [
    "lca = bw.LCA({bw.get_activity((\"db A\", \"activity A\")): 1})\n",
    "lca.lci()\n",
    "original_supply_A = lca.supply_array\n",
    "original_supply_A"
   ]
  },
  {
   "cell_type": "code",
   "execution_count": 36,
   "id": "48a73e6c-40b4-4fd2-abce-935aa8333e77",
   "metadata": {},
   "outputs": [
    {
     "name": "stderr",
     "output_type": "stream",
     "text": [
      "/opt/homebrew/Caskroom/miniforge/base/envs/unfold/lib/python3.10/site-packages/bw2calc/lca.py:228: UserWarning: No biosphere flows found. No inventory results can be calculated, `lcia` will raise an error\n",
      "  warnings.warn(\"No biosphere flows found. No inventory results can \"\n"
     ]
    },
    {
     "data": {
      "text/plain": [
       "array([ 1.        , 10.56250097, 19.1562522 ,  0.        ])"
      ]
     },
     "execution_count": 36,
     "metadata": {},
     "output_type": "execute_result"
    }
   ],
   "source": [
    "lca = bw.LCA({bw.get_activity((\"db B\", \"activity A\")): 1})\n",
    "lca.lci()\n",
    "original_supply_B = lca.supply_array\n",
    "original_supply_B"
   ]
  },
  {
   "cell_type": "code",
   "execution_count": 38,
   "id": "d931c25b-74f7-45cb-abd6-9783ee894e5f",
   "metadata": {},
   "outputs": [],
   "source": [
    "from unfold import Fold"
   ]
  },
  {
   "cell_type": "code",
   "execution_count": 40,
   "id": "0b68264b-dc6a-475a-bc49-301e894232f8",
   "metadata": {},
   "outputs": [],
   "source": [
    "f = Fold()"
   ]
  },
  {
   "cell_type": "code",
   "execution_count": 43,
   "id": "0b296acc-7315-4874-a7fd-c783e3bc1aa5",
   "metadata": {},
   "outputs": [
    {
     "name": "stdout",
     "output_type": "stream",
     "text": [
      "Extracting source database...\n",
      "Done!\n",
      "Extracting databases to fold...\n",
      "Done!\n",
      "Building scenario factor file...\n",
      "Data package saved at test.zip\n"
     ]
    }
   ],
   "source": [
    "f.fold(\n",
    "    package_name=\"test\",\n",
    "    package_description=\"description of test\",\n",
    "    source=\"reference_database\",\n",
    "    system_model=\"cutoff\",\n",
    "    version=\"2.0\",\n",
    "    databases_to_fold=[\"db A\", \"db B\"],\n",
    "    descriptions=[\"this is db A\", \"this is db B\"]\n",
    ")"
   ]
  },
  {
   "cell_type": "code",
   "execution_count": 44,
   "id": "0350b039-ec86-4044-a9fd-a175328c1751",
   "metadata": {},
   "outputs": [],
   "source": [
    "from unfold import Unfold"
   ]
  },
  {
   "cell_type": "code",
   "execution_count": 50,
   "id": "2c947763-ce2b-4842-bb54-e80b9e062d4b",
   "metadata": {},
   "outputs": [
    {
     "name": "stdout",
     "output_type": "stream",
     "text": [
      "The data package contains the following scenarios:\n",
      "+-----+----------+--------------+\n",
      "| No. | Scenario | Description  |\n",
      "+-----+----------+--------------+\n",
      "|  0  |   db A   | this is db A |\n",
      "|  1  |   db B   | this is db B |\n",
      "+-----+----------+--------------+\n",
      "\n",
      "To unfold all scenarios, `unfold()`.\n",
      "To unfold a specific scenario, `unfold(scenarios=[1,])`.\n",
      "Getting activity data\n"
     ]
    },
    {
     "name": "stderr",
     "output_type": "stream",
     "text": [
      "100%|█████████████████████████████████████████████████████████████████████████████████████████████████████████████████████████████| 4/4 [00:00<00:00, 36711.63it/s]\n"
     ]
    },
    {
     "name": "stdout",
     "output_type": "stream",
     "text": [
      "Adding exchange data to activities\n"
     ]
    },
    {
     "name": "stderr",
     "output_type": "stream",
     "text": [
      "100%|████████████████████████████████████████████████████████████████████████████████████████████████████████████████████████████| 10/10 [00:00<00:00, 7065.88it/s]\n"
     ]
    },
    {
     "name": "stdout",
     "output_type": "stream",
     "text": [
      "Filling out exchange data\n"
     ]
    },
    {
     "name": "stderr",
     "output_type": "stream",
     "text": [
      "100%|█████████████████████████████████████████████████████████████████████████████████████████████████████████████████████████████| 4/4 [00:00<00:00, 37365.74it/s]"
     ]
    },
    {
     "name": "stdout",
     "output_type": "stream",
     "text": [
      "Extracting additional inventories...\n",
      "Generating database for scenario db A...\n",
      "Generating database for scenario db B...\n",
      "Writing database for scenario db A...\n",
      "Database db A already exists: it will be overwritten.\n"
     ]
    },
    {
     "name": "stderr",
     "output_type": "stream",
     "text": [
      "\n",
      "Writing activities to SQLite3 database:\n",
      "0% [####] 100% | ETA: 00:00:00\n",
      "Total time elapsed: 00:00:00\n",
      "Writing activities to SQLite3 database:\n"
     ]
    },
    {
     "name": "stdout",
     "output_type": "stream",
     "text": [
      "Title: Writing activities to SQLite3 database:\n",
      "  Started: 03/14/2023 17:18:48\n",
      "  Finished: 03/14/2023 17:18:48\n",
      "  Total time elapsed: 00:00:00\n",
      "  CPU %: 111.30\n",
      "  Memory %: 1.87\n",
      "Created database: db A\n",
      "Writing database for scenario db B...\n",
      "Database db B already exists: it will be overwritten.\n"
     ]
    },
    {
     "name": "stderr",
     "output_type": "stream",
     "text": [
      "0% [####] 100% | ETA: 00:00:00\n",
      "Total time elapsed: 00:00:00\n"
     ]
    },
    {
     "name": "stdout",
     "output_type": "stream",
     "text": [
      "Title: Writing activities to SQLite3 database:\n",
      "  Started: 03/14/2023 17:18:48\n",
      "  Finished: 03/14/2023 17:18:48\n",
      "  Total time elapsed: 00:00:00\n",
      "  CPU %: 110.40\n",
      "  Memory %: 1.93\n",
      "Created database: db B\n"
     ]
    }
   ],
   "source": [
    "u = Unfold(\"test.zip\").unfold(\n",
    "    dependencies={\n",
    "        \"reference_database\": \"reference_database\"\n",
    "    }\n",
    ")"
   ]
  },
  {
   "cell_type": "code",
   "execution_count": 54,
   "id": "fefd89d3-4f1c-4f47-a2fa-63fe285c87f9",
   "metadata": {},
   "outputs": [
    {
     "data": {
      "text/plain": [
       "True"
      ]
     },
     "execution_count": 54,
     "metadata": {},
     "output_type": "execute_result"
    }
   ],
   "source": [
    "import numpy as np\n",
    "lca = bw.LCA({bw.get_activity((\"db A\", \"activity A\")): 1})\n",
    "lca.lci()\n",
    "new_supply_A = lca.supply_array\n",
    "np.allclose(original_supply_A, new_supply_A)"
   ]
  },
  {
   "cell_type": "code",
   "execution_count": 55,
   "id": "4cefcec9-5040-4b59-aeca-9a67425f43a4",
   "metadata": {},
   "outputs": [
    {
     "data": {
      "text/plain": [
       "True"
      ]
     },
     "execution_count": 55,
     "metadata": {},
     "output_type": "execute_result"
    }
   ],
   "source": [
    "import numpy as np\n",
    "lca = bw.LCA({bw.get_activity((\"db B\", \"activity A\")): 1})\n",
    "lca.lci()\n",
    "new_supply_B = lca.supply_array\n",
    "np.allclose(original_supply_B, new_supply_B)"
   ]
  },
  {
   "cell_type": "code",
   "execution_count": 1,
   "id": "dbc8f83a-98ba-489f-984e-7c8c4eb10085",
   "metadata": {},
   "outputs": [],
   "source": [
    "from premise import *\n",
    "from datapackage import Package\n",
    "import bw2data\n",
    "bw2data.projects.set_current(\"ei39\")"
   ]
  },
  {
   "cell_type": "code",
   "execution_count": 2,
   "id": "4cbbb2ab-7ead-437f-bbe6-22aff9a99bff",
   "metadata": {},
   "outputs": [
    {
     "name": "stdout",
     "output_type": "stream",
     "text": [
      "premise v.(1, 6, 6)\n",
      "+------------------------------------------------------------------+\n",
      "| Warning                                                          |\n",
      "+------------------------------------------------------------------+\n",
      "| Because some of the scenarios can yield LCI databases            |\n",
      "| containing net negative emission technologies (NET),             |\n",
      "| it is advised to account for biogenic CO2 flows when calculating |\n",
      "| Global Warming potential indicators.                             |\n",
      "| `premise_gwp` provides characterization factors for such flows.  |\n",
      "| It also provides factors for hydrogen emissions to air.          |\n",
      "|                                                                  |\n",
      "| Within your bw2 project:                                         |\n",
      "| from premise_gwp import add_premise_gwp                          |\n",
      "| add_premise_gwp()                                                |\n",
      "+------------------------------------------------------------------+\n",
      "+--------------------------------+----------------------------------+\n",
      "| Utils functions                | Description                      |\n",
      "+--------------------------------+----------------------------------+\n",
      "| clear_cache()                  | Clears the cache folder. Useful  |\n",
      "|                                | when updating `premise`or        |\n",
      "|                                | encountering issues with         |\n",
      "|                                | inventories.                     |\n",
      "+--------------------------------+----------------------------------+\n",
      "| get_regions_definition(model)  | Retrieves the list of countries  |\n",
      "|                                | for each region of the model.    |\n",
      "+--------------------------------+----------------------------------+\n",
      "| ndb.NewDatabase(...)           | Generates a summary of the most  |\n",
      "| ndb.generate_scenario_report() | important scenarios' variables.  |\n",
      "+--------------------------------+----------------------------------+\n",
      "Keep uncertainty data?\n",
      "NewDatabase(..., keep_uncertainty_data=True)\n",
      "\n",
      "Hide these messages?\n",
      "NewDatabase(..., quiet=True)\n",
      "\n",
      "//////////////////// EXTRACTING SOURCE DATABASE ////////////////////\n",
      "Cannot find cached database. Will create one now for next time...\n",
      "Getting activity data\n"
     ]
    },
    {
     "name": "stderr",
     "output_type": "stream",
     "text": [
      "100%|████████████████████████████████████████████████████████████████████████████████████████████████████████████████████████████████| 21238/21238 [00:00<00:00, 226681.06it/s]\n"
     ]
    },
    {
     "name": "stdout",
     "output_type": "stream",
     "text": [
      "Adding exchange data to activities\n"
     ]
    },
    {
     "name": "stderr",
     "output_type": "stream",
     "text": [
      "100%|███████████████████████████████████████████████████████████████████████████████████████████████████████████████████████████████| 674593/674593 [00:33<00:00, 19963.97it/s]\n"
     ]
    },
    {
     "name": "stdout",
     "output_type": "stream",
     "text": [
      "Filling out exchange data\n"
     ]
    },
    {
     "name": "stderr",
     "output_type": "stream",
     "text": [
      "100%|█████████████████████████████████████████████████████████████████████████████████████████████████████████████████████████████████| 21238/21238 [00:01<00:00, 11888.15it/s]\n"
     ]
    },
    {
     "name": "stdout",
     "output_type": "stream",
     "text": [
      "Set missing location of datasets to global scope.\n",
      "Set missing location of production exchanges to scope of dataset.\n",
      "Correct missing location of technosphere exchanges.\n",
      "Correct missing flow categories for biosphere exchanges\n",
      "Remove empty exchanges.\n",
      "Remove uncertainty data.\n",
      "Done!\n",
      "\n",
      "////////////////// IMPORTING DEFAULT INVENTORIES ///////////////////\n",
      "Cannot find cached inventories. Will create them now for next time...\n",
      "Importing default inventories...\n",
      "\n",
      "Extracted 1 worksheets in 0.17 seconds\n",
      "Migrating to 3.8 first\n",
      "Applying strategy: migrate_datasets\n",
      "Applying strategy: migrate_exchanges\n",
      "Applying strategy: migrate_datasets\n",
      "Applying strategy: migrate_exchanges\n",
      "Applying strategy: migrate_datasets\n",
      "Applying strategy: migrate_exchanges\n",
      "Remove uncertainty data.\n",
      "Extracted 1 worksheets in 0.02 seconds\n",
      "Migrating to 3.8 first\n",
      "Applying strategy: migrate_datasets\n",
      "Applying strategy: migrate_exchanges\n",
      "Applying strategy: migrate_datasets\n",
      "Applying strategy: migrate_exchanges\n",
      "Applying strategy: migrate_datasets\n",
      "Applying strategy: migrate_exchanges\n",
      "Remove uncertainty data.\n",
      "Extracted 1 worksheets in 0.01 seconds\n",
      "Migrating to 3.8 first\n",
      "Applying strategy: migrate_datasets\n",
      "Applying strategy: migrate_exchanges\n",
      "Applying strategy: migrate_datasets\n",
      "Applying strategy: migrate_exchanges\n",
      "Applying strategy: migrate_datasets\n",
      "Applying strategy: migrate_exchanges\n",
      "Remove uncertainty data.\n",
      "Extracted 1 worksheets in 0.02 seconds\n",
      "Remove uncertainty data.\n",
      "Extracted 1 worksheets in 0.01 seconds\n",
      "Migrating to 3.8 first\n",
      "Applying strategy: migrate_datasets\n",
      "Applying strategy: migrate_exchanges\n",
      "Applying strategy: migrate_datasets\n",
      "Applying strategy: migrate_exchanges\n",
      "Applying strategy: migrate_datasets\n",
      "Applying strategy: migrate_exchanges\n",
      "Remove uncertainty data.\n",
      "Extracted 1 worksheets in 0.02 seconds\n",
      "Remove uncertainty data.\n",
      "Extracted 7 worksheets in 0.05 seconds\n",
      "Migrating to 3.8 first\n",
      "Applying strategy: migrate_datasets\n",
      "Applying strategy: migrate_exchanges\n",
      "Applying strategy: migrate_datasets\n",
      "Applying strategy: migrate_exchanges\n",
      "Remove uncertainty data.\n",
      "Extracted 1 worksheets in 0.03 seconds\n",
      "Migrating to 3.8 first\n",
      "Applying strategy: migrate_datasets\n",
      "Applying strategy: migrate_exchanges\n",
      "Applying strategy: migrate_datasets\n",
      "Applying strategy: migrate_exchanges\n",
      "Remove uncertainty data.\n",
      "Extracted 1 worksheets in 0.01 seconds\n",
      "Migrating to 3.8 first\n",
      "Applying strategy: migrate_datasets\n",
      "Applying strategy: migrate_exchanges\n",
      "Applying strategy: migrate_datasets\n",
      "Applying strategy: migrate_exchanges\n",
      "Remove uncertainty data.\n",
      "Extracted 1 worksheets in 0.04 seconds\n",
      "Migrating to 3.8 first\n",
      "Applying strategy: migrate_datasets\n",
      "Applying strategy: migrate_exchanges\n",
      "Applying strategy: migrate_datasets\n",
      "Applying strategy: migrate_exchanges\n",
      "Remove uncertainty data.\n",
      "Extracted 1 worksheets in 0.57 seconds\n",
      "Migrating to 3.8 first\n",
      "Applying strategy: migrate_datasets\n",
      "Applying strategy: migrate_exchanges\n",
      "Applying strategy: migrate_datasets\n",
      "Applying strategy: migrate_exchanges\n",
      "Applying strategy: migrate_datasets\n",
      "Applying strategy: migrate_exchanges\n",
      "Remove uncertainty data.\n",
      "The following datasets to import already exist in the source database. They will not be imported\n",
      "+----------------------------------------------------+--------------------------------+----------+-------------+\n",
      "|                        Name                        |       Reference product        | Location |     File    |\n",
      "+----------------------------------------------------+--------------------------------+----------+-------------+\n",
      "|          fluorspar production, 97% purity          |     fluorspar, 97% purity      |   GLO    | lci-PV.xlsx |\n",
      "|     metallization paste production, back side      | metallization paste, back side |   RER    | lci-PV.xlsx |\n",
      "| metallization paste production, back side, alumini | metallization paste, back side |   RER    | lci-PV.xlsx |\n",
      "|     metallization paste production, front side     | metallization paste, front sid |   RER    | lci-PV.xlsx |\n",
      "| photovoltaic module production, building-integrate | photovoltaic module, building- |   RER    | lci-PV.xlsx |\n",
      "| photovoltaic module production, building-integrate | photovoltaic module, building- |   RER    | lci-PV.xlsx |\n",
      "| photovoltaic mounting system production, for facad | photovoltaic mounting system,  |   RER    | lci-PV.xlsx |\n",
      "| photovoltaic mounting system production, for flat- | photovoltaic mounting system,  |   RER    | lci-PV.xlsx |\n",
      "| photovoltaic mounting system production, for slant | photovoltaic mounting system,  |   RER    | lci-PV.xlsx |\n",
      "|      photovoltaic panel factory construction       |   photovoltaic panel factory   |   GLO    | lci-PV.xlsx |\n",
      "|            polyvinylfluoride production            |       polyvinylfluoride        |    US    | lci-PV.xlsx |\n",
      "|      polyvinylfluoride production, dispersion      | polyvinylfluoride, dispersion  |    US    | lci-PV.xlsx |\n",
      "|         polyvinylfluoride, film production         |    polyvinylfluoride, film     |    US    | lci-PV.xlsx |\n",
      "|      silicon production, metallurgical grade       |  silicon, metallurgical grade  |    NO    | lci-PV.xlsx |\n",
      "|             vinyl fluoride production              |         vinyl fluoride         |    US    | lci-PV.xlsx |\n",
      "|             wafer factory construction             |         wafer factory          |    DE    | lci-PV.xlsx |\n",
      "+----------------------------------------------------+--------------------------------+----------+-------------+\n",
      "Extracted 1 worksheets in 0.07 seconds\n",
      "Remove uncertainty data.\n",
      "Extracted 1 worksheets in 0.01 seconds\n",
      "Remove uncertainty data.\n",
      "Extracted 1 worksheets in 0.03 seconds\n",
      "Remove uncertainty data.\n",
      "Extracted 1 worksheets in 0.02 seconds\n",
      "Migrating to 3.8 first\n",
      "Applying strategy: migrate_datasets\n",
      "Applying strategy: migrate_exchanges\n",
      "Applying strategy: migrate_datasets\n",
      "Applying strategy: migrate_exchanges\n",
      "Applying strategy: migrate_datasets\n",
      "Applying strategy: migrate_exchanges\n",
      "Remove uncertainty data.\n",
      "Extracted 1 worksheets in 0.02 seconds\n",
      "Migrating to 3.8 first\n",
      "Applying strategy: migrate_datasets\n",
      "Applying strategy: migrate_exchanges\n",
      "Applying strategy: migrate_datasets\n",
      "Applying strategy: migrate_exchanges\n",
      "Applying strategy: migrate_datasets\n",
      "Applying strategy: migrate_exchanges\n",
      "Remove uncertainty data.\n",
      "The following datasets to import already exist in the source database. They will not be imported\n",
      "+----------------------------------------------------+--------------------------------+----------+---------------------------------------------------+\n",
      "|                        Name                        |       Reference product        | Location |                        File                       |\n",
      "+----------------------------------------------------+--------------------------------+----------+---------------------------------------------------+\n",
      "| carbon dioxide, captured at cement production plan | carbon dioxide, captured and r |   RER    | lci-synfuels-from-methanol-from-cement-plant.xlsx |\n",
      "+----------------------------------------------------+--------------------------------+----------+---------------------------------------------------+\n",
      "Extracted 1 worksheets in 0.01 seconds\n",
      "Migrating to 3.8 first\n",
      "Applying strategy: migrate_datasets\n",
      "Applying strategy: migrate_exchanges\n",
      "Applying strategy: migrate_datasets\n",
      "Applying strategy: migrate_exchanges\n",
      "Applying strategy: migrate_datasets\n",
      "Applying strategy: migrate_exchanges\n",
      "Remove uncertainty data.\n",
      "Extracted 1 worksheets in 0.02 seconds\n",
      "Migrating to 3.8 first\n",
      "Applying strategy: migrate_datasets\n",
      "Applying strategy: migrate_exchanges\n",
      "Applying strategy: migrate_datasets\n",
      "Applying strategy: migrate_exchanges\n",
      "Applying strategy: migrate_datasets\n",
      "Applying strategy: migrate_exchanges\n",
      "Remove uncertainty data.\n",
      "The following datasets to import already exist in the source database. They will not be imported\n",
      "+----------------------------------------------------+----------------------+----------+-------------------------------------------+\n",
      "|                        Name                        |  Reference product   | Location |                    File                   |\n",
      "+----------------------------------------------------+----------------------+----------+-------------------------------------------+\n",
      "| methanol distillation, hydrogen from coal gasifica |  methanol, purified  |   RER    | lci-synfuels-from-methanol-from-coal.xlsx |\n",
      "| methanol synthesis, hydrogen from coal gasificatio | methanol, unpurified |   RER    | lci-synfuels-from-methanol-from-coal.xlsx |\n",
      "+----------------------------------------------------+----------------------+----------+-------------------------------------------+\n",
      "Extracted 1 worksheets in 0.02 seconds\n",
      "Migrating to 3.8 first\n",
      "Applying strategy: migrate_datasets\n",
      "Applying strategy: migrate_exchanges\n",
      "Applying strategy: migrate_datasets\n",
      "Applying strategy: migrate_exchanges\n",
      "Applying strategy: migrate_datasets\n",
      "Applying strategy: migrate_exchanges\n",
      "Remove uncertainty data.\n",
      "Extracted 1 worksheets in 0.02 seconds\n",
      "Migrating to 3.8 first\n",
      "Applying strategy: migrate_datasets\n",
      "Applying strategy: migrate_exchanges\n",
      "Applying strategy: migrate_datasets\n",
      "Applying strategy: migrate_exchanges\n",
      "Applying strategy: migrate_datasets\n",
      "Applying strategy: migrate_exchanges\n",
      "Remove uncertainty data.\n",
      "Extracted 1 worksheets in 0.02 seconds\n",
      "Migrating to 3.8 first\n",
      "Applying strategy: migrate_datasets\n",
      "Applying strategy: migrate_exchanges\n",
      "Applying strategy: migrate_datasets\n",
      "Applying strategy: migrate_exchanges\n",
      "Applying strategy: migrate_datasets\n",
      "Applying strategy: migrate_exchanges\n",
      "Remove uncertainty data.\n",
      "Extracted 1 worksheets in 0.01 seconds\n",
      "Migrating to 3.8 first\n",
      "Applying strategy: migrate_datasets\n",
      "Applying strategy: migrate_exchanges\n",
      "Applying strategy: migrate_datasets\n",
      "Applying strategy: migrate_exchanges\n",
      "Applying strategy: migrate_datasets\n",
      "Applying strategy: migrate_exchanges\n",
      "Remove uncertainty data.\n",
      "Extracted 1 worksheets in 0.01 seconds\n",
      "Migrating to 3.8 first\n",
      "Applying strategy: migrate_datasets\n",
      "Applying strategy: migrate_exchanges\n",
      "Applying strategy: migrate_datasets\n",
      "Applying strategy: migrate_exchanges\n",
      "Applying strategy: migrate_datasets\n",
      "Applying strategy: migrate_exchanges\n",
      "Remove uncertainty data.\n",
      "Extracted 1 worksheets in 0.02 seconds\n",
      "Remove uncertainty data.\n",
      "Extracted 1 worksheets in 0.01 seconds\n",
      "Migrating to 3.8 first\n",
      "Applying strategy: migrate_datasets\n",
      "Applying strategy: migrate_exchanges\n",
      "Applying strategy: migrate_datasets\n",
      "Applying strategy: migrate_exchanges\n",
      "Applying strategy: migrate_datasets\n",
      "Applying strategy: migrate_exchanges\n",
      "Remove uncertainty data.\n",
      "Extracted 4 worksheets in 0.21 seconds\n",
      "Migrating to 3.8 first\n",
      "Applying strategy: migrate_datasets\n",
      "Applying strategy: migrate_exchanges\n",
      "Applying strategy: migrate_datasets\n",
      "Applying strategy: migrate_exchanges\n",
      "Applying strategy: migrate_datasets\n",
      "Applying strategy: migrate_exchanges\n",
      "Remove uncertainty data.\n",
      "Extracted 1 worksheets in 0.02 seconds\n",
      "Migrating to 3.8 first\n",
      "Applying strategy: migrate_datasets\n",
      "Applying strategy: migrate_exchanges\n",
      "Applying strategy: migrate_datasets\n",
      "Applying strategy: migrate_exchanges\n",
      "Applying strategy: migrate_datasets\n",
      "Applying strategy: migrate_exchanges\n",
      "Remove uncertainty data.\n",
      "Extracted 1 worksheets in 0.02 seconds\n",
      "Migrating to 3.8 first\n",
      "Applying strategy: migrate_datasets\n",
      "Applying strategy: migrate_exchanges\n",
      "Applying strategy: migrate_datasets\n",
      "Applying strategy: migrate_exchanges\n",
      "Applying strategy: migrate_datasets\n",
      "Applying strategy: migrate_exchanges\n",
      "Remove uncertainty data.\n",
      "Extracted 1 worksheets in 0.02 seconds\n",
      "Migrating to 3.8 first\n",
      "Applying strategy: migrate_datasets\n",
      "Applying strategy: migrate_exchanges\n",
      "Applying strategy: migrate_datasets\n",
      "Applying strategy: migrate_exchanges\n",
      "Applying strategy: migrate_datasets\n",
      "Applying strategy: migrate_exchanges\n",
      "Remove uncertainty data.\n",
      "Extracted 1 worksheets in 0.02 seconds\n",
      "Migrating to 3.8 first\n",
      "Applying strategy: migrate_datasets\n",
      "Applying strategy: migrate_exchanges\n",
      "Applying strategy: migrate_datasets\n",
      "Applying strategy: migrate_exchanges\n",
      "Applying strategy: migrate_datasets\n",
      "Applying strategy: migrate_exchanges\n",
      "Remove uncertainty data.\n",
      "Extracted 1 worksheets in 0.02 seconds\n",
      "Migrating to 3.8 first\n",
      "Applying strategy: migrate_datasets\n",
      "Applying strategy: migrate_exchanges\n",
      "Applying strategy: migrate_datasets\n",
      "Applying strategy: migrate_exchanges\n",
      "Applying strategy: migrate_datasets\n",
      "Applying strategy: migrate_exchanges\n",
      "Remove uncertainty data.\n",
      "Extracted 1 worksheets in 0.04 seconds\n",
      "Migrating to 3.8 first\n",
      "Applying strategy: migrate_datasets\n",
      "Applying strategy: migrate_exchanges\n",
      "Applying strategy: migrate_datasets\n",
      "Applying strategy: migrate_exchanges\n",
      "Applying strategy: migrate_datasets\n",
      "Applying strategy: migrate_exchanges\n",
      "Remove uncertainty data.\n",
      "Extracted 1 worksheets in 0.01 seconds\n",
      "Migrating to 3.8 first\n",
      "Applying strategy: migrate_datasets\n",
      "Applying strategy: migrate_exchanges\n",
      "Applying strategy: migrate_datasets\n",
      "Applying strategy: migrate_exchanges\n",
      "Remove uncertainty data.\n",
      "Extracted 1 worksheets in 0.11 seconds\n",
      "Migrating to 3.8 first\n",
      "Applying strategy: migrate_datasets\n",
      "Applying strategy: migrate_exchanges\n",
      "Applying strategy: migrate_datasets\n",
      "Applying strategy: migrate_exchanges\n",
      "Remove uncertainty data.\n",
      "Extracted 1 worksheets in 0.01 seconds\n",
      "Migrating to 3.8 first\n",
      "Applying strategy: migrate_datasets\n",
      "Applying strategy: migrate_exchanges\n",
      "Applying strategy: migrate_datasets\n",
      "Applying strategy: migrate_exchanges\n",
      "Remove uncertainty data.\n",
      "Extracted 1 worksheets in 0.02 seconds\n",
      "Migrating to 3.8 first\n",
      "Applying strategy: migrate_datasets\n",
      "Applying strategy: migrate_exchanges\n",
      "Applying strategy: migrate_datasets\n",
      "Applying strategy: migrate_exchanges\n",
      "Remove uncertainty data.\n",
      "Extracted 1 worksheets in 0.03 seconds\n",
      "Remove uncertainty data.\n",
      "Extracted 1 worksheets in 0.01 seconds\n",
      "Remove uncertainty data.\n",
      "Data cached. It is advised to restart your workflow at this point.\n",
      "This allows premise to use the cached data instead, which results in\n",
      "a faster workflow.\n",
      "Done!\n",
      "\n",
      "/////////////////////// EXTRACTING IAM DATA ////////////////////////\n",
      "Done!\n",
      "`update_all()` will skip the following steps:\n",
      "update_two_wheelers(), update_cars(), and update_buses()\n",
      "If you want to update these steps, please run them separately afterwards.\n",
      "Extracted 1 worksheets in 9.24 seconds\n",
      "Migrating to 3.8 first\n",
      "Applying strategy: migrate_datasets\n",
      "Applying strategy: migrate_exchanges\n",
      "Applying strategy: migrate_datasets\n",
      "Applying strategy: migrate_exchanges\n",
      "Applying strategy: migrate_datasets\n",
      "Applying strategy: migrate_exchanges\n",
      "Done!\n",
      "Done!\n",
      "Extracted 1 worksheets in 7.62 seconds\n",
      "Migrating to 3.8 first\n",
      "Applying strategy: migrate_datasets\n",
      "Applying strategy: migrate_exchanges\n",
      "Applying strategy: migrate_datasets\n",
      "Applying strategy: migrate_exchanges\n",
      "Applying strategy: migrate_datasets\n",
      "Applying strategy: migrate_exchanges\n",
      "Vehicle fleet data is not available beyond 2050. Hence, 2050 is used as fleet year.\n",
      "Done!\n",
      "Done!\n",
      "Extracted 1 worksheets in 10.39 seconds\n",
      "Migrating to 3.8 first\n",
      "Applying strategy: migrate_datasets\n",
      "Applying strategy: migrate_exchanges\n",
      "Applying strategy: migrate_datasets\n",
      "Applying strategy: migrate_exchanges\n",
      "Applying strategy: migrate_datasets\n",
      "Applying strategy: migrate_exchanges\n",
      "Done!\n",
      "Done!\n",
      "Extracted 1 worksheets in 7.85 seconds\n",
      "Migrating to 3.8 first\n",
      "Applying strategy: migrate_datasets\n",
      "Applying strategy: migrate_exchanges\n",
      "Applying strategy: migrate_datasets\n",
      "Applying strategy: migrate_exchanges\n",
      "Applying strategy: migrate_datasets\n",
      "Applying strategy: migrate_exchanges\n",
      "Vehicle fleet data is not available beyond 2050. Hence, 2050 is used as fleet year.\n",
      "Done!\n",
      "Done!\n",
      "Extracted 1 worksheets in 6.47 seconds\n",
      "Migrating to 3.8 first\n",
      "Applying strategy: migrate_datasets\n",
      "Applying strategy: migrate_exchanges\n",
      "Applying strategy: migrate_datasets\n",
      "Applying strategy: migrate_exchanges\n",
      "Applying strategy: migrate_datasets\n",
      "Applying strategy: migrate_exchanges\n",
      "Vehicle fleet data is not available before 2015. Hence, 2015 is used as fleet year.\n",
      "Done!\n",
      "Done!\n",
      "Extracted 1 worksheets in 13.39 seconds\n",
      "Migrating to 3.8 first\n",
      "Applying strategy: migrate_datasets\n",
      "Applying strategy: migrate_exchanges\n",
      "Applying strategy: migrate_datasets\n",
      "Applying strategy: migrate_exchanges\n",
      "Applying strategy: migrate_datasets\n",
      "Applying strategy: migrate_exchanges\n",
      "Done!\n",
      "Done!\n",
      "Extracted 1 worksheets in 17.15 seconds\n",
      "Migrating to 3.8 first\n",
      "Applying strategy: migrate_datasets\n",
      "Applying strategy: migrate_exchanges\n",
      "Applying strategy: migrate_datasets\n",
      "Applying strategy: migrate_exchanges\n",
      "Applying strategy: migrate_datasets\n",
      "Applying strategy: migrate_exchanges\n",
      "Vehicle fleet data is not available beyond 2050. Hence, 2050 is used as fleet year.\n",
      "Done!\n",
      "Done!\n",
      "Extracted 1 worksheets in 9.22 seconds\n",
      "Migrating to 3.8 first\n",
      "Applying strategy: migrate_datasets\n",
      "Applying strategy: migrate_exchanges\n",
      "Applying strategy: migrate_datasets\n",
      "Applying strategy: migrate_exchanges\n",
      "Applying strategy: migrate_datasets\n",
      "Applying strategy: migrate_exchanges\n",
      "Done!\n",
      "Done!\n",
      "Extracted 1 worksheets in 12.57 seconds\n",
      "Migrating to 3.8 first\n",
      "Applying strategy: migrate_datasets\n",
      "Applying strategy: migrate_exchanges\n",
      "Applying strategy: migrate_datasets\n",
      "Applying strategy: migrate_exchanges\n",
      "Applying strategy: migrate_datasets\n",
      "Applying strategy: migrate_exchanges\n",
      "Vehicle fleet data is not available beyond 2050. Hence, 2050 is used as fleet year.\n",
      "Done!\n",
      "Done!\n",
      "Extracted 1 worksheets in 8.63 seconds\n",
      "Migrating to 3.8 first\n",
      "Applying strategy: migrate_datasets\n",
      "Applying strategy: migrate_exchanges\n",
      "Applying strategy: migrate_datasets\n",
      "Applying strategy: migrate_exchanges\n",
      "Applying strategy: migrate_datasets\n",
      "Applying strategy: migrate_exchangesDone!\n",
      "\n",
      "\n",
      "Done!\n",
      "Done!\n",
      "Extracted 1 worksheets in 7.55 seconds\n",
      "Migrating to 3.8 first\n",
      "Applying strategy: migrate_datasets\n",
      "Applying strategy: migrate_exchanges\n",
      "Applying strategy: migrate_datasets\n",
      "Applying strategy: migrate_exchanges\n",
      "Applying strategy: migrate_datasets\n",
      "Applying strategy: migrate_exchanges\n",
      "Vehicle fleet data is not available beyond 2050. Hence, 2050 is used as fleet year.\n",
      "Done!\n",
      "Done!\n",
      "Extracted 1 worksheets in 8.32 seconds\n",
      "Migrating to 3.8 first\n",
      "Applying strategy: migrate_datasets\n",
      "Applying strategy: migrate_exchanges\n",
      "Applying strategy: migrate_datasets\n",
      "Applying strategy: migrate_exchanges\n",
      "Applying strategy: migrate_datasets\n",
      "Applying strategy: migrate_exchanges\n",
      "Vehicle fleet data is not available beyond 2050. Hence, 2050 is used as fleet year.\n",
      "Done!\n",
      "Done!\n",
      "One or multiple duplicates detected. Removing them...\n",
      "One or multiple duplicates detected. Removing them...\n",
      "One or multiple duplicates detected. Removing them...\n",
      "One or multiple duplicates detected. Removing them...\n",
      "One or multiple duplicates detected. Removing them...\n",
      "One or multiple duplicates detected. Removing them...\n",
      "One or multiple duplicates detected. Removing them...\n",
      "One or multiple duplicates detected. Removing them...\n",
      "One or multiple duplicates detected. Removing them...\n",
      "One or multiple duplicates detected. Removing them...\n",
      "Building scenario factor file...\n",
      "Number of new activities: 15892\n",
      "Data package saved at /Users/romain/GitHub/unfold/dev/export/datapackage/datapackage_2023-09-19.zip\n",
      "Generate scenario report.\n",
      "Report saved under /Users/romain/GitHub/unfold/dev/export/scenario_report.\n",
      "Generate change report.\n",
      "Report saved under /Users/romain/GitHub/unfold/dev.\n"
     ]
    }
   ],
   "source": [
    "scenarios = [\n",
    "    {\"model\": \"remind\", \"pathway\":\"SSP2-PkBudg1150\", \"year\": 2005},\n",
    "    {\"model\": \"remind\", \"pathway\":\"SSP2-PkBudg1150\", \"year\": 2010},\n",
    "    {\"model\": \"remind\", \"pathway\":\"SSP2-PkBudg1150\", \"year\": 2015},\n",
    "    {\"model\": \"remind\", \"pathway\":\"SSP2-PkBudg1150\", \"year\": 2020},\n",
    "    {\"model\": \"remind\", \"pathway\":\"SSP2-PkBudg1150\", \"year\": 2025},\n",
    "    {\"model\": \"remind\", \"pathway\":\"SSP2-PkBudg1150\", \"year\": 2030},\n",
    "    {\"model\": \"remind\", \"pathway\":\"SSP2-PkBudg1150\", \"year\": 2035},\n",
    "    {\"model\": \"remind\", \"pathway\":\"SSP2-PkBudg1150\", \"year\": 2040},\n",
    "    {\"model\": \"remind\", \"pathway\":\"SSP2-PkBudg1150\", \"year\": 2045},\n",
    "    {\"model\": \"remind\", \"pathway\":\"SSP2-PkBudg1150\", \"year\": 2050},\n",
    "    {\"model\": \"remind\", \"pathway\":\"SSP2-PkBudg1150\", \"year\": 2055},\n",
    "    {\"model\": \"remind\", \"pathway\":\"SSP2-PkBudg1150\", \"year\": 2060},\n",
    "    {\"model\": \"remind\", \"pathway\":\"SSP2-PkBudg1150\", \"year\": 2070},\n",
    "    {\"model\": \"remind\", \"pathway\":\"SSP2-PkBudg1150\", \"year\": 2065},\n",
    "    {\"model\": \"remind\", \"pathway\":\"SSP2-PkBudg1150\", \"year\": 2085},\n",
    "    {\"model\": \"remind\", \"pathway\":\"SSP2-PkBudg1150\", \"year\": 2075},\n",
    "    {\"model\": \"remind\", \"pathway\":\"SSP2-PkBudg1150\", \"year\": 2090},\n",
    "    {\"model\": \"remind\", \"pathway\":\"SSP2-PkBudg1150\", \"year\": 2095},\n",
    "    {\"model\": \"remind\", \"pathway\":\"SSP2-PkBudg1150\", \"year\": 2080},\n",
    "    {\"model\": \"remind\", \"pathway\":\"SSP2-PkBudg1150\", \"year\": 2100},\n",
    "]\n",
    "\n",
    "ndb = NewDatabase(\n",
    "        scenarios = scenarios,        \n",
    "        source_db=\"ecoinvent 3.9.1 cutoff\",\n",
    "        source_version=\"3.9.1\",\n",
    "        key='tUePmX_S5B8ieZkkM7WUU2CnO8SmShwmAeWK9x2rTFo=',    \n",
    ")\n",
    "ndb.update_all()\n",
    "ndb.write_datapackage()"
   ]
  },
  {
   "cell_type": "code",
   "execution_count": 3,
   "id": "99ea79b4-c9c9-45a6-9b1f-400e5fe8a53b",
   "metadata": {},
   "outputs": [
    {
     "name": "stdout",
     "output_type": "stream",
     "text": [
      "Generate scenario report.\n",
      "Report saved under /Users/romain/GitHub/unfold/dev/export/scenario_report.\n"
     ]
    }
   ],
   "source": [
    "ndb.generate_scenario_report()"
   ]
  },
  {
   "cell_type": "code",
   "execution_count": 4,
   "id": "f912d29f-dd75-430c-8b33-d2aa65541010",
   "metadata": {},
   "outputs": [],
   "source": [
    "ldb = []\n",
    "for db in bw2data.databases:\n",
    "    if db not in [\"biosphere3\", \"ecoinvent 3.9.1 cutoff\", \"ecoinvent EN15804 3.9.1\"]:\n",
    "        ldb.append(db)"
   ]
  },
  {
   "cell_type": "code",
   "execution_count": 5,
   "id": "1b1fb0af-851a-4c56-88b1-552f2850acad",
   "metadata": {},
   "outputs": [
    {
     "data": {
      "text/plain": [
       "['ecoinvent_cutoff_3.9_image_SSP2-Base_2050',\n",
       " 'ecoinvent_cutoff_3.9_image_SSP2-Base_2020',\n",
       " 'ecoinvent_cutoff_3.9_image_SSP2-RCP26_2050',\n",
       " 'ecoinvent_cutoff_3.9_image_SSP2-RCP19_2050',\n",
       " 'ecoinvent_remind_SSP2-Base_2020_all',\n",
       " 'ecoinvent_remind_SSP2-Base_2030_all',\n",
       " 'ecoinvent_remind_SSP2-Base_2040_all',\n",
       " 'ecoinvent_remind_SSP2-Base_2050_all',\n",
       " 'ecoinvent_remind_SSP2-PkBudg1150_2030_all',\n",
       " 'ecoinvent_remind_SSP2-PkBudg1150_2040_all',\n",
       " 'ecoinvent_remind_SSP2-PkBudg1150_2050_all',\n",
       " 'ecoinvent_remind_SSP2-PkBudg500_2030_all',\n",
       " 'ecoinvent_remind_SSP2-PkBudg500_2040_all',\n",
       " 'ecoinvent_remind_SSP2-PkBudg500_2050_all',\n",
       " 'ecoinvent_image_SSP2-RCP19_2020_all',\n",
       " 'ecoinvent_image_SSP2-RCP19_2030_all',\n",
       " 'ecoinvent_image_SSP2-RCP19_2040_all',\n",
       " 'ecoinvent_image_SSP2-RCP19_2050_all',\n",
       " 'ecoinvent_cutoff_3.9_image_SSP2-Base_2005',\n",
       " 'anne',\n",
       " 'anne2',\n",
       " 'test',\n",
       " 'ecoinvent_cutoff_3.9_image_SSP2-Base_2010',\n",
       " 'coalpp',\n",
       " 'ecoinvent_cutoff_3.9_image_SSP2-RCP19_2030',\n",
       " 'ecoinvent_cutoff_3.9_remind_SSP2-Base_2040',\n",
       " 'test1',\n",
       " 'test2',\n",
       " 'metal_test',\n",
       " 'synhelion_common',\n",
       " 'csp_test',\n",
       " 'message2020',\n",
       " 'message2060',\n",
       " 'super_db_2023-07-26',\n",
       " 'super_db_2023-07-27',\n",
       " 'test_csv',\n",
       " 'test_feather',\n",
       " 'fuels_test',\n",
       " 'fuels_test2',\n",
       " 'fuels_test3',\n",
       " 'fuels_test4',\n",
       " 'fuels_test5',\n",
       " 'fuels_test6',\n",
       " 'fuels_test7',\n",
       " 'fuels_test8',\n",
       " 'elec_test1',\n",
       " 'elec_test2',\n",
       " 'my_dp',\n",
       " 'super_db_2023-07-29',\n",
       " 'ecoinvent_cutoff_3.9_remind_SSP5-Base_2050',\n",
       " 'test_metals2',\n",
       " 'test_metals3',\n",
       " 'Power-2-heat',\n",
       " 'ecoinvent_cutoff_3.9_tiam_SSP2-RCP19_2030',\n",
       " 'biofuel_1',\n",
       " 'biofuel_2',\n",
       " 'test_super',\n",
       " 'image - SSP2-Base - 2030',\n",
       " 'remind - SSP5-Base - 2080',\n",
       " 'tom1',\n",
       " 'tom2',\n",
       " 'remind - SSP2-Base - 2005']"
      ]
     },
     "execution_count": 5,
     "metadata": {},
     "output_type": "execute_result"
    }
   ],
   "source": [
    "ldb"
   ]
  },
  {
   "cell_type": "code",
   "execution_count": 7,
   "id": "113e3cd2-b91f-4d37-ba64-f9b720208341",
   "metadata": {},
   "outputs": [
    {
     "name": "stdout",
     "output_type": "stream",
     "text": [
      "ecoinvent_cutoff_3.9_image_SSP2-Base_2050\n",
      "Vacuuming database \n",
      "ecoinvent_cutoff_3.9_image_SSP2-Base_2020\n",
      "Vacuuming database \n",
      "ecoinvent_cutoff_3.9_image_SSP2-RCP26_2050\n",
      "Vacuuming database \n",
      "ecoinvent_cutoff_3.9_image_SSP2-RCP19_2050\n",
      "Vacuuming database \n",
      "ecoinvent_remind_SSP2-Base_2020_all\n",
      "Vacuuming database \n",
      "ecoinvent_remind_SSP2-Base_2030_all\n",
      "Vacuuming database \n",
      "ecoinvent_remind_SSP2-Base_2040_all\n",
      "Vacuuming database \n",
      "ecoinvent_remind_SSP2-Base_2050_all\n",
      "Vacuuming database \n",
      "ecoinvent_remind_SSP2-PkBudg1150_2030_all\n",
      "Vacuuming database \n",
      "ecoinvent_remind_SSP2-PkBudg1150_2040_all\n",
      "Vacuuming database \n",
      "ecoinvent_remind_SSP2-PkBudg1150_2050_all\n",
      "Vacuuming database \n",
      "ecoinvent_remind_SSP2-PkBudg500_2030_all\n",
      "Vacuuming database \n",
      "ecoinvent_remind_SSP2-PkBudg500_2040_all\n",
      "Vacuuming database \n",
      "ecoinvent_remind_SSP2-PkBudg500_2050_all\n",
      "Vacuuming database \n",
      "ecoinvent_image_SSP2-RCP19_2020_all\n",
      "Vacuuming database \n",
      "ecoinvent_image_SSP2-RCP19_2030_all\n",
      "Vacuuming database \n",
      "ecoinvent_image_SSP2-RCP19_2040_all\n",
      "Vacuuming database \n",
      "ecoinvent_image_SSP2-RCP19_2050_all\n",
      "Vacuuming database \n",
      "ecoinvent_cutoff_3.9_image_SSP2-Base_2005\n",
      "Vacuuming database \n",
      "anne\n",
      "Vacuuming database \n",
      "anne2\n",
      "Vacuuming database \n",
      "test\n",
      "Vacuuming database \n",
      "ecoinvent_cutoff_3.9_image_SSP2-Base_2010\n",
      "Vacuuming database \n",
      "coalpp\n",
      "Vacuuming database \n",
      "ecoinvent_cutoff_3.9_image_SSP2-RCP19_2030\n",
      "Vacuuming database \n",
      "ecoinvent_cutoff_3.9_remind_SSP2-Base_2040\n",
      "Vacuuming database \n",
      "test1\n",
      "Vacuuming database \n",
      "test2\n",
      "Vacuuming database \n",
      "metal_test\n",
      "Vacuuming database \n",
      "synhelion_common\n",
      "csp_test\n",
      "Vacuuming database \n",
      "message2020\n",
      "Vacuuming database \n",
      "message2060\n",
      "Vacuuming database \n",
      "super_db_2023-07-26\n",
      "Vacuuming database \n",
      "super_db_2023-07-27\n",
      "Vacuuming database \n",
      "test_csv\n",
      "Vacuuming database \n",
      "test_feather\n",
      "Vacuuming database \n",
      "fuels_test\n",
      "Vacuuming database \n",
      "fuels_test2\n",
      "Vacuuming database \n",
      "fuels_test3\n",
      "Vacuuming database \n",
      "fuels_test4\n",
      "Vacuuming database \n",
      "fuels_test5\n",
      "Vacuuming database \n",
      "fuels_test6\n",
      "Vacuuming database \n",
      "fuels_test7\n",
      "Vacuuming database \n",
      "fuels_test8\n",
      "Vacuuming database \n",
      "elec_test1\n",
      "Vacuuming database \n",
      "elec_test2\n",
      "Vacuuming database \n",
      "my_dp\n",
      "Vacuuming database \n",
      "super_db_2023-07-29\n",
      "Vacuuming database \n",
      "ecoinvent_cutoff_3.9_remind_SSP5-Base_2050\n",
      "Vacuuming database \n",
      "test_metals2\n",
      "Vacuuming database \n",
      "test_metals3\n",
      "Vacuuming database \n",
      "Power-2-heat\n",
      "ecoinvent_cutoff_3.9_tiam_SSP2-RCP19_2030\n",
      "Vacuuming database \n",
      "biofuel_1\n",
      "Vacuuming database \n",
      "biofuel_2\n",
      "Vacuuming database \n",
      "test_super\n",
      "Vacuuming database \n",
      "image - SSP2-Base - 2030\n",
      "Vacuuming database \n",
      "remind - SSP5-Base - 2080\n",
      "Vacuuming database \n",
      "tom1\n",
      "Vacuuming database \n",
      "tom2\n",
      "Vacuuming database \n",
      "remind - SSP2-Base - 2005\n"
     ]
    }
   ],
   "source": [
    "for db in ldb:\n",
    "    print(db)\n",
    "    del bw2data.databases[db]"
   ]
  },
  {
   "cell_type": "code",
   "execution_count": 5,
   "id": "2bb38f4f-0a3f-4ecc-aa2d-4480e64d299c",
   "metadata": {},
   "outputs": [],
   "source": [
    "from datapackage import DataPackage"
   ]
  },
  {
   "cell_type": "code",
   "execution_count": 6,
   "id": "eafb2266-a1d3-4f91-b718-eab3a4d0f0ad",
   "metadata": {},
   "outputs": [],
   "source": [
    "p = DataPackage(\"test.zip\")"
   ]
  },
  {
   "cell_type": "code",
   "execution_count": 9,
   "id": "66ed76f2-9b20-48a1-9c4a-b9804f0396f7",
   "metadata": {},
   "outputs": [
    {
     "data": {
      "text/plain": [
       "[{'name': 'ecoinvent_cutoff_3.9_remind_SSP2-PkBudg1150_2050',\n",
       "  'description': 'remind'},\n",
       " {'name': 'ecoinvent_cutoff_3.9_remind_SSP2-PkBudg500_2030',\n",
       "  'description': 'image'}]"
      ]
     },
     "execution_count": 9,
     "metadata": {},
     "output_type": "execute_result"
    }
   ],
   "source": [
    "p.descriptor[\"scenarios\"]"
   ]
  },
  {
   "cell_type": "code",
   "execution_count": null,
   "id": "b7e6002e-e484-4b7a-974f-6dab2adbf95e",
   "metadata": {},
   "outputs": [],
   "source": []
  }
 ],
 "metadata": {
  "kernelspec": {
   "display_name": "Python 3 (ipykernel)",
   "language": "python",
   "name": "python3"
  },
  "language_info": {
   "codemirror_mode": {
    "name": "ipython",
    "version": 3
   },
   "file_extension": ".py",
   "mimetype": "text/x-python",
   "name": "python",
   "nbconvert_exporter": "python",
   "pygments_lexer": "ipython3",
   "version": "3.10.12"
  }
 },
 "nbformat": 4,
 "nbformat_minor": 5
}
