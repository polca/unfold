{
 "cells": [
  {
   "cell_type": "code",
   "execution_count": 3,
   "id": "110c183e-cd91-4e4f-a33e-a74869962e1c",
   "metadata": {},
   "outputs": [],
   "source": [
    "from unfold import Unfold\n",
    "import bw2io, bw2data, bw2calc"
   ]
  },
  {
   "cell_type": "code",
   "execution_count": 7,
   "id": "d58c74dc-298e-4252-be87-12a5283021e0",
   "metadata": {},
   "outputs": [],
   "source": [
    "import brightway2 as bw\n",
    "bw.projects.set_current(\"new4\")"
   ]
  },
  {
   "cell_type": "code",
   "execution_count": 8,
   "id": "34537e4a-a4b7-484d-9261-719d3927ec80",
   "metadata": {},
   "outputs": [
    {
     "name": "stdout",
     "output_type": "stream",
     "text": [
      "The data package contains the following scenarios:\n",
      "+-----+--------------------------------+-------------+\n",
      "| No. |            Scenario            | Description |\n",
      "+-----+--------------------------------+-------------+\n",
      "|  0  | ecoinvent_remind_SSP2-NPi_2005 |     test    |\n",
      "|  1  | ecoinvent_remind_SSP2-NPi_2010 |     test    |\n",
      "+-----+--------------------------------+-------------+\n",
      "\n",
      "To unfold all scenarios, `unfold()`.\n",
      "To unfold a specific scenario, `unfold(scenarios=[1,])`.\n"
     ]
    }
   ],
   "source": [
    "u = Unfold(\"test.zip\")"
   ]
  },
  {
   "cell_type": "code",
   "execution_count": 9,
   "id": "c24a2f2a-b502-4fb9-9db3-ad5769a55ea7",
   "metadata": {},
   "outputs": [
    {
     "name": "stdout",
     "output_type": "stream",
     "text": [
      "The following databases are necessary to unfold the scenarios:\n",
      "+-----+----------------------+--------------+---------+\n",
      "| No. |      Dependency      | System model | Version |\n",
      "+-----+----------------------+--------------+---------+\n",
      "|  1  | ecoinvent 3.8 cutoff |     test     |   test  |\n",
      "|  2  |      biosphere3      |              |         |\n",
      "+-----+----------------------+--------------+---------+\n",
      "\n",
      "The following databases are available in your project:\n",
      "+-----+--------------------------------+\n",
      "| No. |            Database            |\n",
      "+-----+--------------------------------+\n",
      "|  1  |           biosphere3           |\n",
      "|  2  |      ecoinvent 3.8 cutoff      |\n",
      "|  3  |      ecoinvent 3.7 cutoff      |\n",
      "|  4  |      ecoinvent 3.6 cutoff      |\n",
      "|  5  |             test1              |\n",
      "|  6  |             test2              |\n",
      "|  7  | ecoinvent_remind_SSP2-NPi_2005 |\n",
      "|  8  | ecoinvent_remind_SSP2-NPi_2010 |\n",
      "|  9  |           test_super           |\n",
      "+-----+--------------------------------+\n",
      "\n"
     ]
    },
    {
     "name": "stdin",
     "output_type": "stream",
     "text": [
      "Indicate the database number for dependency 1:  2\n",
      "Indicate the database number for dependency 2:  1\n"
     ]
    },
    {
     "name": "stdout",
     "output_type": "stream",
     "text": [
      "Getting activity data\n"
     ]
    },
    {
     "name": "stderr",
     "output_type": "stream",
     "text": [
      "100%|████████████████████████████████████████████████████████████████████████████████████████████████████████████████████| 19565/19565 [00:00<00:00, 293012.11it/s]\n"
     ]
    },
    {
     "name": "stdout",
     "output_type": "stream",
     "text": [
      "Adding exchange data to activities\n"
     ]
    },
    {
     "name": "stderr",
     "output_type": "stream",
     "text": [
      "100%|███████████████████████████████████████████████████████████████████████████████████████████████████████████████████| 629959/629959 [00:34<00:00, 18040.63it/s]\n"
     ]
    },
    {
     "name": "stdout",
     "output_type": "stream",
     "text": [
      "Filling out exchange data\n"
     ]
    },
    {
     "name": "stderr",
     "output_type": "stream",
     "text": [
      "100%|██████████████████████████████████████████████████████████████████████████████████████████████████████████████████████| 19565/19565 [00:02<00:00, 7831.25it/s]\n"
     ]
    },
    {
     "name": "stdout",
     "output_type": "stream",
     "text": [
      "Getting activity data\n"
     ]
    },
    {
     "name": "stderr",
     "output_type": "stream",
     "text": [
      "100%|██████████████████████████████████████████████████████████████████████████████████████████████████████████████████████| 4427/4427 [00:00<00:00, 382636.14it/s]\n"
     ]
    },
    {
     "name": "stdout",
     "output_type": "stream",
     "text": [
      "Adding exchange data to activities\n"
     ]
    },
    {
     "name": "stderr",
     "output_type": "stream",
     "text": [
      "0it [00:00, ?it/s]\n"
     ]
    },
    {
     "name": "stdout",
     "output_type": "stream",
     "text": [
      "Filling out exchange data\n"
     ]
    },
    {
     "name": "stderr",
     "output_type": "stream",
     "text": [
      "100%|█████████████████████████████████████████████████████████████████████████████████████████████████████████████████████| 4427/4427 [00:00<00:00, 5541087.38it/s]\n"
     ]
    },
    {
     "name": "stdout",
     "output_type": "stream",
     "text": [
      "Extracting additional inventories...\n",
      "Generating database for scenario ecoinvent_remind_SSP2-NPi_2005...\n",
      "Generating database for scenario ecoinvent_remind_SSP2-NPi_2010...\n",
      "Writing database for scenario ecoinvent_remind_SSP2-NPi_2005...\n",
      "Database ecoinvent_remind_SSP2-NPi_2005 already exists: it will be overwritten.\n",
      "Vacuuming database \n"
     ]
    },
    {
     "name": "stderr",
     "output_type": "stream",
     "text": [
      "Writing activities to SQLite3 database:\n",
      "0% [##############################] 100% | ETA: 00:00:00\n",
      "Total time elapsed: 00:00:28\n"
     ]
    },
    {
     "name": "stdout",
     "output_type": "stream",
     "text": [
      "Title: Writing activities to SQLite3 database:\n",
      "  Started: 03/14/2023 11:52:39\n",
      "  Finished: 03/14/2023 11:53:08\n",
      "  Total time elapsed: 00:00:28\n",
      "  CPU %: 97.00\n",
      "  Memory %: 17.42\n",
      "Created database: ecoinvent_remind_SSP2-NPi_2005\n",
      "Writing database for scenario ecoinvent_remind_SSP2-NPi_2010...\n",
      "Database ecoinvent_remind_SSP2-NPi_2010 already exists: it will be overwritten.\n",
      "Vacuuming database \n"
     ]
    },
    {
     "name": "stderr",
     "output_type": "stream",
     "text": [
      "Writing activities to SQLite3 database:\n",
      "0% [##############################] 100% | ETA: 00:00:00\n",
      "Total time elapsed: 00:00:29\n"
     ]
    },
    {
     "name": "stdout",
     "output_type": "stream",
     "text": [
      "Title: Writing activities to SQLite3 database:\n",
      "  Started: 03/14/2023 11:55:25\n",
      "  Finished: 03/14/2023 11:55:54\n",
      "  Total time elapsed: 00:00:29\n",
      "  CPU %: 97.60\n",
      "  Memory %: 18.79\n",
      "Created database: ecoinvent_remind_SSP2-NPi_2010\n"
     ]
    }
   ],
   "source": [
    "u.unfold()"
   ]
  },
  {
   "cell_type": "code",
   "execution_count": 3,
   "id": "490dc194-20db-4686-9db6-b0efae60c3c7",
   "metadata": {},
   "outputs": [],
   "source": [
    "from unfold import Fold\n",
    "import bw2io, bw2data"
   ]
  },
  {
   "cell_type": "code",
   "execution_count": 4,
   "id": "b17e26e2-2402-40b8-9ef1-22f9d15b24dc",
   "metadata": {},
   "outputs": [],
   "source": [
    "bw2data.projects.set_current(\"new\")\n",
    "f = Fold()"
   ]
  },
  {
   "cell_type": "code",
   "execution_count": 5,
   "id": "38409dc7-b1dc-4267-8418-51a717593bbb",
   "metadata": {},
   "outputs": [
    {
     "name": "stdin",
     "output_type": "stream",
     "text": [
      "Give a name for this datapackage:  test\n",
      "Give a short description for this datapackage:  test\n"
     ]
    },
    {
     "name": "stdout",
     "output_type": "stream",
     "text": [
      "The following databases are available in your project:\n",
      "+-----+---------------------------------------+\n",
      "| No. |                Database               |\n",
      "+-----+---------------------------------------+\n",
      "|  1  |               biosphere3              |\n",
      "|  2  |          ecoinvent 3.8 cutoff         |\n",
      "|  3  |             carculator_lci            |\n",
      "|  4  |          carculator_lci_truck         |\n",
      "|  5  |      carculator import20.11.2021      |\n",
      "|  6  |           nuclear fuel chain          |\n",
      "|  7  |          nuclear electricity          |\n",
      "|  8  |        nuclear electricity SMR        |\n",
      "|  9  |              wave_energy              |\n",
      "|  10 |                RTE_2020               |\n",
      "|  11 |                RTE_2030               |\n",
      "|  12 |                RTE_2040               |\n",
      "|  13 |                RTE_2050               |\n",
      "|  14 |              HDfuels_2035             |\n",
      "|  15 |          HDfuels_2035_EU_only         |\n",
      "|  16 |                carina_1               |\n",
      "|  17 |        premise_remind_ssp2_base       |\n",
      "|  18 |                amelie_1               |\n",
      "|  19 |                amelie_2               |\n",
      "|  20 |                 841_db                |\n",
      "|  21 |     ecoinvent_remind_SSP2-NPi_2005    |\n",
      "|  22 |     ecoinvent_remind_SSP2-NPi_2010    |\n",
      "|  23 |     ecoinvent_remind_SSP2-NPi_2020    |\n",
      "|  24 |     ecoinvent_remind_SSP2-NPi_2030    |\n",
      "|  25 |     ecoinvent_remind_SSP2-NPi_2040    |\n",
      "|  26 |     ecoinvent_remind_SSP2-NPi_2050    |\n",
      "|  27 | ecoinvent_remind_SSP2-PkBudg1150_2030 |\n",
      "|  28 | ecoinvent_remind_SSP2-PkBudg1150_2040 |\n",
      "|  29 | ecoinvent_remind_SSP2-PkBudg1150_2050 |\n",
      "|  30 |  ecoinvent_remind_SSP2-PkBudg500_2030 |\n",
      "|  31 |  ecoinvent_remind_SSP2-PkBudg500_2040 |\n",
      "|  32 |  ecoinvent_remind_SSP2-PkBudg500_2050 |\n",
      "|  33 |            Mobility example           |\n",
      "|  34 |                forwast                |\n",
      "|  35 |              Car db_ei_36             |\n",
      "|  36 |                metals1                |\n",
      "|  37 |           carculator_lci_car          |\n",
      "|  38 |               metals_ref              |\n",
      "|  39 |           direct air capture          |\n",
      "|  40 |        image - SSP2-Base - 2030       |\n",
      "|  41 |       image - SSP2-RCP19 - 2030       |\n",
      "|  42 |                test_dac               |\n",
      "|  43 |               test_dac2               |\n",
      "+-----+---------------------------------------+\n",
      "\n"
     ]
    },
    {
     "name": "stdin",
     "output_type": "stream",
     "text": [
      "Indicate the no. of the reference database:  2\n",
      "Indicate the system model of ecoinvent 3.8 cutoff:  test\n",
      "Indicate the version of ecoinvent 3.8 cutoff:  test\n",
      "Indicate the no. of the databases you would like to fold, separated by a comma:  21, 22\n",
      "Give a short description for ecoinvent_remind_SSP2-NPi_2005:  test\n",
      "Give a short description for ecoinvent_remind_SSP2-NPi_2010:  test\n"
     ]
    },
    {
     "name": "stdout",
     "output_type": "stream",
     "text": [
      "Extracting source database...\n",
      "Done!\n",
      "Extracting databases to fold...\n",
      "Done!\n",
      "\n",
      "The database biosphere3 is an external dependency. It will be extracted automatically.\n",
      "Building scenario factor file...\n",
      "Data package saved at test.zip\n"
     ]
    }
   ],
   "source": [
    "m = f.fold()"
   ]
  },
  {
   "cell_type": "code",
   "execution_count": null,
   "id": "2aa7f1d0-c666-4a28-815c-f75f2d42bb85",
   "metadata": {},
   "outputs": [],
   "source": [
    "f = Fold()\n",
    "\n",
    "f.fold(\n",
    "    package_name=\"Test_package\",\n",
    "    package_description=\"some description\",\n",
    "    source=\"ecoinvent 3.8 cutoff\",\n",
    "    system_model=\"cut off\",\n",
    "    version=\"3.8\",\n",
    "    databases_to_fold=[\"amelie_1\",\"amelie_2\"],\n",
    "    descriptions=[\"a database from my thesis\", \"another database from my thesis\"],\n",
    ")"
   ]
  },
  {
   "cell_type": "code",
   "execution_count": null,
   "id": "ab8307d1-7fc2-4065-b2c8-9ca3bdaeca6e",
   "metadata": {},
   "outputs": [],
   "source": [
    "for ds in f.source[\"database\"]:\n",
    "    if \"reference product\" not in ds:\n",
    "        print(ds[\"name\"])"
   ]
  },
  {
   "cell_type": "code",
   "execution_count": null,
   "id": "0c13e7d1-457c-4967-a0c7-fad3630a585a",
   "metadata": {},
   "outputs": [],
   "source": [
    "check_mandatory_fields(f.source[\"database\"])"
   ]
  },
  {
   "cell_type": "code",
   "execution_count": null,
   "id": "c52ea820-c63b-4c40-b73b-009e5024e336",
   "metadata": {},
   "outputs": [],
   "source": [
    "list_unique_acts = []\n",
    "for ds in f.source[\"database\"]:\n",
    "    list_unique_acts.extend([\n",
    "        (\n",
    "            f.rev_dependency_mapping.get(exchange.get(\"input\"), (None,))[0],\n",
    "            f.rev_dependency_mapping.get(exchange.get(\"input\"), (None, None))[1],\n",
    "            f.rev_dependency_mapping.get(exchange.get(\"input\"), (None,))[-1],\n",
    "            f.rev_dependency_mapping.get(exchange.get(\"input\"), (None, None, None))[2],\n",
    "            exchange[\"unit\"],\n",
    "            exchange[\"type\"],\n",
    "        )\n",
    "        for exchange in ds[\"exchanges\"]\n",
    "    ])"
   ]
  },
  {
   "cell_type": "code",
   "execution_count": null,
   "id": "0132d952-e8b5-42b6-99d3-5b4d7170fe1a",
   "metadata": {},
   "outputs": [],
   "source": [
    "f.source[\"database\"][0][\"exchanges\"][0][\"input\"]"
   ]
  },
  {
   "cell_type": "code",
   "execution_count": null,
   "id": "514801d5-373b-40af-b78e-2a7a30b287b7",
   "metadata": {},
   "outputs": [],
   "source": []
  }
 ],
 "metadata": {
  "kernelspec": {
   "display_name": "Python 3 (ipykernel)",
   "language": "python",
   "name": "python3"
  },
  "language_info": {
   "codemirror_mode": {
    "name": "ipython",
    "version": 3
   },
   "file_extension": ".py",
   "mimetype": "text/x-python",
   "name": "python",
   "nbconvert_exporter": "python",
   "pygments_lexer": "ipython3",
   "version": "3.10.8"
  }
 },
 "nbformat": 4,
 "nbformat_minor": 5
}
